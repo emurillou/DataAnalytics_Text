{
  "nbformat": 4,
  "nbformat_minor": 0,
  "metadata": {
    "colab": {
      "name": "DA_Anal_Sentimientos.ipynb",
      "provenance": [],
      "mount_file_id": "1QT5Sgv4kQgOh1I3j2cJrEwYU9Kl3gNZc",
      "authorship_tag": "ABX9TyNFfdkN+3+36DgN5pbRRPJE",
      "include_colab_link": true
    },
    "kernelspec": {
      "name": "python3",
      "display_name": "Python 3"
    }
  },
  "cells": [
    {
      "cell_type": "markdown",
      "metadata": {
        "id": "view-in-github",
        "colab_type": "text"
      },
      "source": [
        "<a href=\"https://colab.research.google.com/github/ibonetc/DataAnalytics_Text/blob/master/DA_Anal_Sentimientos.ipynb\" target=\"_parent\"><img src=\"https://colab.research.google.com/assets/colab-badge.svg\" alt=\"Open In Colab\"/></a>"
      ]
    },
    {
      "cell_type": "markdown",
      "metadata": {
        "id": "0CHymfHUtXu4",
        "colab_type": "text"
      },
      "source": [
        "# Análisis de sentimientos\n",
        "Existen dos formas clásicas de hacer análisis de sentimientos:\n",
        "\n",
        "* Enfoque basado en tokens: A partir de un diccionario de palabras positivas, negativas y neutrales, se cuentan la cantidad de palabras positivas y negativas en el texto y se determina el sentimiento del texto como la cantidad que prevalece.\n",
        "\n",
        "* Enfoque basado en aprendizaje automático: a partir de una base de conocimientos con datos preetiquetados en  positivo, negativo y neutral, se entrena un modelo de aprendizaje automático para clasificar el texto.\n",
        "\n",
        "El análisis de sentimientos es una forma de evaluar lo que se dice en un texto sobre un tema determinado. Se puntúa utilizando valores de polaridad que van de 1 a -1. Los valores más cercanos a 1 indican más positividad, mientras que los valores más cercanos a -1 indican más negatividad."
      ]
    },
    {
      "cell_type": "code",
      "metadata": {
        "id": "eX6jw0BtwB1a",
        "colab_type": "code",
        "colab": {
          "base_uri": "https://localhost:8080/",
          "height": 71
        },
        "outputId": "7eff3628-37e9-4aea-e0c3-fb2ade2d96b4"
      },
      "source": [
        "import csv\n",
        "import pandas as pd\n",
        "import matplotlib.pyplot as plt\n",
        "import seaborn as sns\n",
        "import itertools\n",
        "import collections\n",
        "import tweepy\n",
        "import nltk\n",
        "from textblob import TextBlob\n",
        "import re"
      ],
      "execution_count": 3,
      "outputs": [
        {
          "output_type": "stream",
          "text": [
            "/usr/local/lib/python3.6/dist-packages/statsmodels/tools/_testing.py:19: FutureWarning: pandas.util.testing is deprecated. Use the functions in the public API at pandas.testing instead.\n",
            "  import pandas.util.testing as tm\n"
          ],
          "name": "stderr"
        }
      ]
    },
    {
      "cell_type": "markdown",
      "metadata": {
        "id": "-nuMmdjIwmpv",
        "colab_type": "text"
      },
      "source": [
        "Leer csv de clase anterior"
      ]
    },
    {
      "cell_type": "code",
      "metadata": {
        "id": "yY38-5AYwUsX",
        "colab_type": "code",
        "colab": {}
      },
      "source": [
        "pd.set_option('display.max_colwidth',2000)\n",
        "path='/content/drive/My Drive/Analitics_Esp/'\n",
        "df = pd.read_csv(path+'SearchCaracolTV_.csv', encoding='utf-8-sig')"
      ],
      "execution_count": 10,
      "outputs": []
    },
    {
      "cell_type": "code",
      "metadata": {
        "id": "paIODqSxx_J_",
        "colab_type": "code",
        "colab": {
          "base_uri": "https://localhost:8080/",
          "height": 680
        },
        "outputId": "05740d26-667b-42fd-af14-2d739721f445"
      },
      "source": [
        "df.head()"
      ],
      "execution_count": 11,
      "outputs": [
        {
          "output_type": "execute_result",
          "data": {
            "text/html": [
              "<div>\n",
              "<style scoped>\n",
              "    .dataframe tbody tr th:only-of-type {\n",
              "        vertical-align: middle;\n",
              "    }\n",
              "\n",
              "    .dataframe tbody tr th {\n",
              "        vertical-align: top;\n",
              "    }\n",
              "\n",
              "    .dataframe thead th {\n",
              "        text-align: right;\n",
              "    }\n",
              "</style>\n",
              "<table border=\"1\" class=\"dataframe\">\n",
              "  <thead>\n",
              "    <tr style=\"text-align: right;\">\n",
              "      <th></th>\n",
              "      <th>Unnamed: 0</th>\n",
              "      <th>tweet</th>\n",
              "      <th>user</th>\n",
              "      <th>user_followers</th>\n",
              "      <th>user_location</th>\n",
              "      <th>fav_count</th>\n",
              "      <th>rt_count</th>\n",
              "      <th>tweet_date</th>\n",
              "      <th>hashtags</th>\n",
              "      <th>mentions</th>\n",
              "    </tr>\n",
              "  </thead>\n",
              "  <tbody>\n",
              "    <tr>\n",
              "      <th>0</th>\n",
              "      <td>0</td>\n",
              "      <td>@CaracolTV @Regias Se ven mejor gorditas... Yo no sé porque el perjuicio de la delgadez si así gorditas se ven muy bien.</td>\n",
              "      <td>Karol Mejia</td>\n",
              "      <td>230</td>\n",
              "      <td>Colombia</td>\n",
              "      <td>0</td>\n",
              "      <td>0</td>\n",
              "      <td>2020-09-01 15:59:14</td>\n",
              "      <td>[]</td>\n",
              "      <td>['CaracolTV', 'Regias']</td>\n",
              "    </tr>\n",
              "    <tr>\n",
              "      <th>1</th>\n",
              "      <td>1</td>\n",
              "      <td>@LucenErnesto @NairoQuinCo @SupermanlopezN @Eganbernal @CaracolTV @infopresidencia @MinDeporteCol @fedeciclismocol Y a las 3:30 en @WinSportsTV #CiclismoEntreGrandes saludos Ministro.</td>\n",
              "      <td>Daniel Pérez</td>\n",
              "      <td>72144</td>\n",
              "      <td>Bogota, Colombia</td>\n",
              "      <td>2</td>\n",
              "      <td>0</td>\n",
              "      <td>2020-09-01 15:56:46</td>\n",
              "      <td>['CiclismoEntreGrandes']</td>\n",
              "      <td>['LucenErnesto', 'NairoQuinCo', 'SupermanlopezN', 'Eganbernal', 'CaracolTV', 'infopresidencia', 'MinDeporteCol', 'fedeciclismocol', 'WinSportsTV']</td>\n",
              "    </tr>\n",
              "    <tr>\n",
              "      <th>2</th>\n",
              "      <td>2</td>\n",
              "      <td>🚴🏾‍♂️Gran trabajo de nuestros ciclistas en la etapa de hoy: @NairoQuinCo 4, @SupermanlopezN 6 y @Eganbernal 7 🇨🇴. ¡Entregándolo todo hasta el final! #TourDeFrancia 🇫🇷 @CaracolTV https://t.co/Y1gFUFMwF9</td>\n",
              "      <td>Ernesto Lucena</td>\n",
              "      <td>10822</td>\n",
              "      <td>NaN</td>\n",
              "      <td>4</td>\n",
              "      <td>0</td>\n",
              "      <td>2020-09-01 15:55:30</td>\n",
              "      <td>['TourDeFrancia']</td>\n",
              "      <td>['NairoQuinCo', 'SupermanlopezN', 'Eganbernal', 'CaracolTV']</td>\n",
              "    </tr>\n",
              "    <tr>\n",
              "      <th>3</th>\n",
              "      <td>3</td>\n",
              "      <td>@CaracolTV @Regias Por favor nesesitamos ayuda estamos pasando por una situación muy difícil no tengo comida para mis Niños ayudennos por favor nesesitamos alimentacion 😭🙏</td>\n",
              "      <td>Lindarys Mejiarobles</td>\n",
              "      <td>48</td>\n",
              "      <td>Bogotá, D.C., Colombia</td>\n",
              "      <td>0</td>\n",
              "      <td>0</td>\n",
              "      <td>2020-09-01 15:53:57</td>\n",
              "      <td>[]</td>\n",
              "      <td>['CaracolTV', 'Regias']</td>\n",
              "    </tr>\n",
              "    <tr>\n",
              "      <th>4</th>\n",
              "      <td>4</td>\n",
              "      <td>@CarlosFGalan @COL_EJERCITO Pero ud quiere que legalizar esa mierda !! Y con ayuda de los medios afines al terrorismo como . @CaracolTV ? Que tal le párese esta fabulosa información sesgada al terrorismo ? @ghitis @ArgiroCasta58 @CancinoAbog https://t.co/DWo15jbwyX</td>\n",
              "      <td>pensaren plata</td>\n",
              "      <td>126</td>\n",
              "      <td>Colombia</td>\n",
              "      <td>0</td>\n",
              "      <td>0</td>\n",
              "      <td>2020-09-01 15:50:59</td>\n",
              "      <td>[]</td>\n",
              "      <td>['CarlosFGalan', 'COL_EJERCITO', 'CaracolTV', 'ghitis', 'ArgiroCasta58', 'CancinoAbog']</td>\n",
              "    </tr>\n",
              "  </tbody>\n",
              "</table>\n",
              "</div>"
            ],
            "text/plain": [
              "   Unnamed: 0  ...                                                                                                                                            mentions\n",
              "0           0  ...                                                                                                                             ['CaracolTV', 'Regias']\n",
              "1           1  ...  ['LucenErnesto', 'NairoQuinCo', 'SupermanlopezN', 'Eganbernal', 'CaracolTV', 'infopresidencia', 'MinDeporteCol', 'fedeciclismocol', 'WinSportsTV']\n",
              "2           2  ...                                                                                        ['NairoQuinCo', 'SupermanlopezN', 'Eganbernal', 'CaracolTV']\n",
              "3           3  ...                                                                                                                             ['CaracolTV', 'Regias']\n",
              "4           4  ...                                                             ['CarlosFGalan', 'COL_EJERCITO', 'CaracolTV', 'ghitis', 'ArgiroCasta58', 'CancinoAbog']\n",
              "\n",
              "[5 rows x 10 columns]"
            ]
          },
          "metadata": {
            "tags": []
          },
          "execution_count": 11
        }
      ]
    },
    {
      "cell_type": "markdown",
      "metadata": {
        "id": "GjltERn9Y5bd",
        "colab_type": "text"
      },
      "source": [
        "Podemos hacer una limpieza de texto sin quitar signos de puntuación todavía, ni stopWords"
      ]
    },
    {
      "cell_type": "code",
      "metadata": {
        "id": "MRvfMPgDY5GH",
        "colab_type": "code",
        "colab": {}
      },
      "source": [
        "def  clean_text(df, text_field):\n",
        "  patternURLEMAIL=r'(\\w+[.]?\\w+@(\\w+\\.)+\\w+)|((http:\\/\\/www\\.|https:\\/\\/www\\.|http:\\/\\/|https:\\/\\/)?\\w+([\\-\\.]{1}\\w+)*\\.[a-z]{2,5}(\\/)?(([^\\s@])*(\\/)?)*)'\n",
        "  patternHashtagMention=r'(@\\w+)|(#\\w+)'\n",
        "  #Primero convertimos a minúscula\n",
        "  df[text_field] = df[text_field].str.lower()\n",
        "  # Utilizamos las expresiones regulares anteriores sobre URL, email, hashtag y menciones para quitarlos\n",
        "  df[text_field] = df[text_field].apply(lambda elem: re.sub(patternURLEMAIL,'', elem))  \n",
        "  # Utilizamos una expresión regular para eliminar los hashtag y las menciones con @\n",
        "  df[text_field] = df[text_field].apply(lambda elem: re.sub(patternHashtagMention,'', elem))\n",
        "  # Utilizamos una expresión regular también para eliminar los números\n",
        "  df[text_field] = df[text_field].apply(lambda elem: re.sub(r'\\d+','', elem))\n",
        "  df[text_field] = df[text_field].apply(lambda elem: re.sub(r'[|]','', elem))\n",
        "  ## Sustituir espacios de más\n",
        "  df[text_field] = df[text_field].apply(lambda elem: re.sub(r'\\s+',' ', elem))\n",
        "  ## Eliminar signos de puntuación '[!#?,.:\";]'\n",
        "  #df[text_field] = df[text_field].apply(lambda elem: re.sub(r'[!#?,.:\";‘’]',' ', elem))\n",
        "  return df"
      ],
      "execution_count": 7,
      "outputs": []
    },
    {
      "cell_type": "code",
      "metadata": {
        "id": "rUtDsLFyaXlM",
        "colab_type": "code",
        "colab": {}
      },
      "source": [
        "import re\n",
        "df_clean=clean_text(df,'tweet')"
      ],
      "execution_count": 25,
      "outputs": []
    },
    {
      "cell_type": "code",
      "metadata": {
        "id": "Tk5HDdgPcVKO",
        "colab_type": "code",
        "colab": {
          "base_uri": "https://localhost:8080/",
          "height": 187
        },
        "outputId": "12aa706b-7707-40af-805b-6a335329e48f"
      },
      "source": [
        "!pip install emoji"
      ],
      "execution_count": 17,
      "outputs": [
        {
          "output_type": "stream",
          "text": [
            "Collecting emoji\n",
            "\u001b[?25l  Downloading https://files.pythonhosted.org/packages/ff/1c/1f1457fe52d0b30cbeebfd578483cedb3e3619108d2d5a21380dfecf8ffd/emoji-0.6.0.tar.gz (51kB)\n",
            "\r\u001b[K     |██████▍                         | 10kB 16.5MB/s eta 0:00:01\r\u001b[K     |████████████▉                   | 20kB 2.8MB/s eta 0:00:01\r\u001b[K     |███████████████████▎            | 30kB 3.9MB/s eta 0:00:01\r\u001b[K     |█████████████████████████▊      | 40kB 4.1MB/s eta 0:00:01\r\u001b[K     |████████████████████████████████| 51kB 2.3MB/s \n",
            "\u001b[?25hBuilding wheels for collected packages: emoji\n",
            "  Building wheel for emoji (setup.py) ... \u001b[?25l\u001b[?25hdone\n",
            "  Created wheel for emoji: filename=emoji-0.6.0-cp36-none-any.whl size=49716 sha256=e02e678296344394962eb33e379a3b79c67877254a15893eec85f87b390c4479\n",
            "  Stored in directory: /root/.cache/pip/wheels/46/2c/8b/9dcf5216ca68e14e0320e283692dce8ae321cdc01e73e17796\n",
            "Successfully built emoji\n",
            "Installing collected packages: emoji\n",
            "Successfully installed emoji-0.6.0\n"
          ],
          "name": "stdout"
        }
      ]
    },
    {
      "cell_type": "code",
      "metadata": {
        "id": "N67YAi_1b8c0",
        "colab_type": "code",
        "colab": {}
      },
      "source": [
        "import emoji\n",
        "df_clean['tweet']=df['tweet'].apply(lambda text: emoji.get_emoji_regexp().sub(r'', text))"
      ],
      "execution_count": 21,
      "outputs": []
    },
    {
      "cell_type": "code",
      "metadata": {
        "id": "a2q-kI3W4MlK",
        "colab_type": "code",
        "colab": {
          "base_uri": "https://localhost:8080/",
          "height": 35
        },
        "outputId": "4623cbc4-acb1-4477-aa11-973bc19da816"
      },
      "source": [
        "analysis=TextBlob(df_clean['tweet'][0])\n",
        "language = analysis.detect_language()\n",
        "language"
      ],
      "execution_count": 22,
      "outputs": [
        {
          "output_type": "execute_result",
          "data": {
            "application/vnd.google.colaboratory.intrinsic+json": {
              "type": "string"
            },
            "text/plain": [
              "'es'"
            ]
          },
          "metadata": {
            "tags": []
          },
          "execution_count": 22
        }
      ]
    },
    {
      "cell_type": "code",
      "metadata": {
        "id": "QkQLTNtc5xev",
        "colab_type": "code",
        "colab": {
          "base_uri": "https://localhost:8080/",
          "height": 34
        },
        "outputId": "cbb6d995-9840-4ad6-8988-d75e1076ba77"
      },
      "source": [
        "s=TextBlob('This is wrong')\n",
        "s.sentiment"
      ],
      "execution_count": 30,
      "outputs": [
        {
          "output_type": "execute_result",
          "data": {
            "text/plain": [
              "Sentiment(polarity=-0.5, subjectivity=0.9)"
            ]
          },
          "metadata": {
            "tags": []
          },
          "execution_count": 30
        }
      ]
    },
    {
      "cell_type": "code",
      "metadata": {
        "id": "ffaebhmr6ZOH",
        "colab_type": "code",
        "colab": {
          "base_uri": "https://localhost:8080/",
          "height": 51
        },
        "outputId": "369d901a-07c5-4b23-b297-3cb2fc8b9ad9"
      },
      "source": [
        "ns=s.translate(to='es')\n",
        "print(ns.string)\n",
        "ns.sentiment"
      ],
      "execution_count": 31,
      "outputs": [
        {
          "output_type": "stream",
          "text": [
            "Esto está mal\n"
          ],
          "name": "stdout"
        },
        {
          "output_type": "execute_result",
          "data": {
            "text/plain": [
              "Sentiment(polarity=0.0, subjectivity=0.0)"
            ]
          },
          "metadata": {
            "tags": []
          },
          "execution_count": 31
        }
      ]
    },
    {
      "cell_type": "code",
      "metadata": {
        "id": "fZnC1E8i8Uhg",
        "colab_type": "code",
        "colab": {
          "base_uri": "https://localhost:8080/",
          "height": 34
        },
        "outputId": "1dfceb41-07e4-4770-fcf7-4b032a069a99"
      },
      "source": [
        "s=TextBlob('Esto está mal')\n",
        "s.sentiment"
      ],
      "execution_count": 25,
      "outputs": [
        {
          "output_type": "execute_result",
          "data": {
            "text/plain": [
              "Sentiment(polarity=0.0, subjectivity=0.0)"
            ]
          },
          "metadata": {
            "tags": []
          },
          "execution_count": 25
        }
      ]
    },
    {
      "cell_type": "code",
      "metadata": {
        "id": "6A6cC0qn6wwO",
        "colab_type": "code",
        "colab": {
          "base_uri": "https://localhost:8080/",
          "height": 51
        },
        "outputId": "84a64191-bab2-431b-8a3e-45d73ed19848"
      },
      "source": [
        "ns=s.translate(to='en')\n",
        "print(ns.string)\n",
        "ns.sentiment"
      ],
      "execution_count": 27,
      "outputs": [
        {
          "output_type": "stream",
          "text": [
            "This is bad\n"
          ],
          "name": "stdout"
        },
        {
          "output_type": "execute_result",
          "data": {
            "text/plain": [
              "Sentiment(polarity=-0.6999999999999998, subjectivity=0.6666666666666666)"
            ]
          },
          "metadata": {
            "tags": []
          },
          "execution_count": 27
        }
      ]
    },
    {
      "cell_type": "code",
      "metadata": {
        "id": "PLL5Nd6V4ruo",
        "colab_type": "code",
        "colab": {}
      },
      "source": [
        "import time\n",
        "def sentiment_analysis(tweet):\n",
        "  analysis = TextBlob(tweet)\n",
        "  language = analysis.detect_language()\n",
        "  #sentimentBlob = analysis if language == 'en' else analysis.translate(to='en')\n",
        "  sentimentBlob =analysis\n",
        "  #time.sleep(5)   \n",
        "  return 'positive' if sentimentBlob.sentiment.polarity > 0 else 'neutral' if sentimentBlob.sentiment.polarity == 0 else 'negative'"
      ],
      "execution_count": 80,
      "outputs": []
    },
    {
      "cell_type": "code",
      "metadata": {
        "id": "UeQzE-Sj9Iqh",
        "colab_type": "code",
        "colab": {}
      },
      "source": [
        "df_clean['sentimentTextBlob'] = df_clean['tweet'].apply(lambda text: TextBlob(text).sentiment.polarity)"
      ],
      "execution_count": 82,
      "outputs": []
    },
    {
      "cell_type": "code",
      "metadata": {
        "id": "XN3aewc655x6",
        "colab_type": "code",
        "colab": {}
      },
      "source": [
        "df_clean['TextBlob'] = df_clean['tweet'].apply(lambda text: TextBlob(text))"
      ],
      "execution_count": 83,
      "outputs": []
    },
    {
      "cell_type": "markdown",
      "metadata": {
        "id": "d9LRcA1X6UZC",
        "colab_type": "text"
      },
      "source": [
        "Tiene un límite para las traducciones."
      ]
    },
    {
      "cell_type": "code",
      "metadata": {
        "id": "d5ErLlmb5_Yi",
        "colab_type": "code",
        "colab": {}
      },
      "source": [
        "df['translate']=[analysis.translate(to='en') for analysis in df['TextBlob']]"
      ],
      "execution_count": null,
      "outputs": []
    },
    {
      "cell_type": "code",
      "metadata": {
        "id": "UQZiWkQJ-gKb",
        "colab_type": "code",
        "colab": {}
      },
      "source": [
        "df_clean['sentiment']=['positive' if p > 0 else 'neutral' if p == 0 else 'negative' for p in df['sentimentTextBlob']]"
      ],
      "execution_count": 89,
      "outputs": []
    },
    {
      "cell_type": "code",
      "metadata": {
        "id": "peoNHkI3-7X7",
        "colab_type": "code",
        "colab": {
          "base_uri": "https://localhost:8080/",
          "height": 1000
        },
        "outputId": "160f6ecc-8581-4c18-818d-9a2f698df87e"
      },
      "source": [
        "df.head()"
      ],
      "execution_count": 86,
      "outputs": [
        {
          "output_type": "execute_result",
          "data": {
            "text/html": [
              "<div>\n",
              "<style scoped>\n",
              "    .dataframe tbody tr th:only-of-type {\n",
              "        vertical-align: middle;\n",
              "    }\n",
              "\n",
              "    .dataframe tbody tr th {\n",
              "        vertical-align: top;\n",
              "    }\n",
              "\n",
              "    .dataframe thead th {\n",
              "        text-align: right;\n",
              "    }\n",
              "</style>\n",
              "<table border=\"1\" class=\"dataframe\">\n",
              "  <thead>\n",
              "    <tr style=\"text-align: right;\">\n",
              "      <th></th>\n",
              "      <th>Unnamed: 0</th>\n",
              "      <th>tweet</th>\n",
              "      <th>user</th>\n",
              "      <th>user_followers</th>\n",
              "      <th>user_location</th>\n",
              "      <th>fav_count</th>\n",
              "      <th>rt_count</th>\n",
              "      <th>tweet_date</th>\n",
              "      <th>hashtags</th>\n",
              "      <th>mentions</th>\n",
              "      <th>sentiment</th>\n",
              "      <th>Sent_AWS</th>\n",
              "      <th>sentimentTextBlob</th>\n",
              "      <th>TextBlob</th>\n",
              "    </tr>\n",
              "  </thead>\n",
              "  <tbody>\n",
              "    <tr>\n",
              "      <th>0</th>\n",
              "      <td>0</td>\n",
              "      <td>se ven mejor gorditas yo no sé porque el perjuicio de la delgadez si así gorditas se ven muy bien</td>\n",
              "      <td>Karol Mejia</td>\n",
              "      <td>230</td>\n",
              "      <td>Colombia</td>\n",
              "      <td>0</td>\n",
              "      <td>0</td>\n",
              "      <td>2020-09-01 15:59:14</td>\n",
              "      <td>[]</td>\n",
              "      <td>['CaracolTV', 'Regias']</td>\n",
              "      <td>neutral</td>\n",
              "      <td>[POSITIVE, 0.7599148154258728]</td>\n",
              "      <td>0.0</td>\n",
              "      <td>( , s, e,  , v, e, n,  , m, e, j, o, r,  , g, o, r, d, i, t, a, s,  , y, o,  , n, o,  , s, é,  , p, o, r, q, u, e,  , e, l,  , p, e, r, j, u, i, c, i, o,  , d, e,  , l, a,  , d, e, l, g, a, d, e, z,  , s, i,  , a, s, í,  , g, o, r, d, i, t, a, s,  , s, e,  , v, e, n,  , m, u, y,  , b, i, e, n,  )</td>\n",
              "    </tr>\n",
              "    <tr>\n",
              "      <th>1</th>\n",
              "      <td>1</td>\n",
              "      <td>y a las en saludos ministro</td>\n",
              "      <td>Daniel Pérez</td>\n",
              "      <td>72144</td>\n",
              "      <td>Bogota, Colombia</td>\n",
              "      <td>2</td>\n",
              "      <td>0</td>\n",
              "      <td>2020-09-01 15:56:46</td>\n",
              "      <td>['CiclismoEntreGrandes']</td>\n",
              "      <td>['LucenErnesto', 'NairoQuinCo', 'SupermanlopezN', 'Eganbernal', 'CaracolTV', 'infopresidencia', 'MinDeporteCol', 'fedeciclismocol', 'WinSportsTV']</td>\n",
              "      <td>neutral</td>\n",
              "      <td>[NEUTRAL, 0.8070828318595886]</td>\n",
              "      <td>0.0</td>\n",
              "      <td>( , y,  , a,  , l, a, s,  , e, n,  , s, a, l, u, d, o, s,  , m, i, n, i, s, t, r, o,  )</td>\n",
              "    </tr>\n",
              "    <tr>\n",
              "      <th>2</th>\n",
              "      <td>2</td>\n",
              "      <td>gran trabajo de nuestros ciclistas en la etapa de hoy y  ¡entregándolo todo hasta el final</td>\n",
              "      <td>Ernesto Lucena</td>\n",
              "      <td>10822</td>\n",
              "      <td>NaN</td>\n",
              "      <td>4</td>\n",
              "      <td>0</td>\n",
              "      <td>2020-09-01 15:55:30</td>\n",
              "      <td>['TourDeFrancia']</td>\n",
              "      <td>['NairoQuinCo', 'SupermanlopezN', 'Eganbernal', 'CaracolTV']</td>\n",
              "      <td>neutral</td>\n",
              "      <td>[POSITIVE, 0.942391037940979]</td>\n",
              "      <td>0.0</td>\n",
              "      <td>(g, r, a, n,  , t, r, a, b, a, j, o,  , d, e,  , n, u, e, s, t, r, o, s,  , c, i, c, l, i, s, t, a, s,  , e, n,  , l, a,  , e, t, a, p, a,  , d, e,  , h, o, y,  , y,  ,  , ¡, e, n, t, r, e, g, á, n, d, o, l, o,  , t, o, d, o,  , h, a, s, t, a,  , e, l,  , f, i, n, a, l,  ,  )</td>\n",
              "    </tr>\n",
              "    <tr>\n",
              "      <th>3</th>\n",
              "      <td>3</td>\n",
              "      <td>por favor nesesitamos ayuda estamos pasando por una situación muy difícil no tengo comida para mis niños ayudennos por favor nesesitamos alimentacion</td>\n",
              "      <td>Lindarys Mejiarobles</td>\n",
              "      <td>48</td>\n",
              "      <td>Bogotá, D.C., Colombia</td>\n",
              "      <td>0</td>\n",
              "      <td>0</td>\n",
              "      <td>2020-09-01 15:53:57</td>\n",
              "      <td>[]</td>\n",
              "      <td>['CaracolTV', 'Regias']</td>\n",
              "      <td>neutral</td>\n",
              "      <td>[NEGATIVE, 0.6846625804901123]</td>\n",
              "      <td>0.0</td>\n",
              "      <td>( , p, o, r,  , f, a, v, o, r,  , n, e, s, e, s, i, t, a, m, o, s,  , a, y, u, d, a,  , e, s, t, a, m, o, s,  , p, a, s, a, n, d, o,  , p, o, r,  , u, n, a,  , s, i, t, u, a, c, i, ó, n,  , m, u, y,  , d, i, f, í, c, i, l,  , n, o,  , t, e, n, g, o,  , c, o, m, i, d, a,  , p, a, r, a,  , m, i, s,  , ...)</td>\n",
              "    </tr>\n",
              "    <tr>\n",
              "      <th>4</th>\n",
              "      <td>4</td>\n",
              "      <td>pero ud quiere que legalizar esa mierda y con ayuda de los medios afines al terrorismo como que tal le párese esta fabulosa información sesgada al terrorismo</td>\n",
              "      <td>pensaren plata</td>\n",
              "      <td>126</td>\n",
              "      <td>Colombia</td>\n",
              "      <td>0</td>\n",
              "      <td>0</td>\n",
              "      <td>2020-09-01 15:50:59</td>\n",
              "      <td>[]</td>\n",
              "      <td>['CarlosFGalan', 'COL_EJERCITO', 'CaracolTV', 'ghitis', 'ArgiroCasta58', 'CancinoAbog']</td>\n",
              "      <td>neutral</td>\n",
              "      <td>[NEGATIVE, 0.7823030948638916]</td>\n",
              "      <td>0.0</td>\n",
              "      <td>( , p, e, r, o,  , u, d,  , q, u, i, e, r, e,  , q, u, e,  , l, e, g, a, l, i, z, a, r,  , e, s, a,  , m, i, e, r, d, a,  , y,  , c, o, n,  , a, y, u, d, a,  , d, e,  , l, o, s,  , m, e, d, i, o, s,  , a, f, i, n, e, s,  , a, l,  , t, e, r, r, o, r, i, s, m, o,  , c, o, m, o,  , q, u, e,  , t, a, l, ...)</td>\n",
              "    </tr>\n",
              "  </tbody>\n",
              "</table>\n",
              "</div>"
            ],
            "text/plain": [
              "   Unnamed: 0  ...                                                                                                                                                                                                                                                                                                           TextBlob\n",
              "0           0  ...          ( , s, e,  , v, e, n,  , m, e, j, o, r,  , g, o, r, d, i, t, a, s,  , y, o,  , n, o,  , s, é,  , p, o, r, q, u, e,  , e, l,  , p, e, r, j, u, i, c, i, o,  , d, e,  , l, a,  , d, e, l, g, a, d, e, z,  , s, i,  , a, s, í,  , g, o, r, d, i, t, a, s,  , s, e,  , v, e, n,  , m, u, y,  , b, i, e, n,  )\n",
              "1           1  ...                                                                                                                                                                                                                            ( , y,  , a,  , l, a, s,  , e, n,  , s, a, l, u, d, o, s,  , m, i, n, i, s, t, r, o,  )\n",
              "2           2  ...                               (g, r, a, n,  , t, r, a, b, a, j, o,  , d, e,  , n, u, e, s, t, r, o, s,  , c, i, c, l, i, s, t, a, s,  , e, n,  , l, a,  , e, t, a, p, a,  , d, e,  , h, o, y,  , y,  ,  , ¡, e, n, t, r, e, g, á, n, d, o, l, o,  , t, o, d, o,  , h, a, s, t, a,  , e, l,  , f, i, n, a, l,  ,  )\n",
              "3           3  ...  ( , p, o, r,  , f, a, v, o, r,  , n, e, s, e, s, i, t, a, m, o, s,  , a, y, u, d, a,  , e, s, t, a, m, o, s,  , p, a, s, a, n, d, o,  , p, o, r,  , u, n, a,  , s, i, t, u, a, c, i, ó, n,  , m, u, y,  , d, i, f, í, c, i, l,  , n, o,  , t, e, n, g, o,  , c, o, m, i, d, a,  , p, a, r, a,  , m, i, s,  , ...)\n",
              "4           4  ...  ( , p, e, r, o,  , u, d,  , q, u, i, e, r, e,  , q, u, e,  , l, e, g, a, l, i, z, a, r,  , e, s, a,  , m, i, e, r, d, a,  , y,  , c, o, n,  , a, y, u, d, a,  , d, e,  , l, o, s,  , m, e, d, i, o, s,  , a, f, i, n, e, s,  , a, l,  , t, e, r, r, o, r, i, s, m, o,  , c, o, m, o,  , q, u, e,  , t, a, l, ...)\n",
              "\n",
              "[5 rows x 14 columns]"
            ]
          },
          "metadata": {
            "tags": []
          },
          "execution_count": 86
        }
      ]
    },
    {
      "cell_type": "code",
      "metadata": {
        "id": "WhmuVBIL_ClS",
        "colab_type": "code",
        "colab": {
          "base_uri": "https://localhost:8080/",
          "height": 316
        },
        "outputId": "22141d7c-12a3-4c80-da55-126b0dee81f5"
      },
      "source": [
        "df_clean.sentiment[df.sentimentTextBlob!=0].value_counts().plot(kind='bar')"
      ],
      "execution_count": 156,
      "outputs": [
        {
          "output_type": "execute_result",
          "data": {
            "text/plain": [
              "<matplotlib.axes._subplots.AxesSubplot at 0x7f05d9ee3a90>"
            ]
          },
          "metadata": {
            "tags": []
          },
          "execution_count": 156
        },
        {
          "output_type": "display_data",
          "data": {
            "image/png": "[encoded data removed]",
            "text/plain": [
              "<Figure size 432x288 with 1 Axes>"
            ]
          },
          "metadata": {
            "tags": [],
            "needs_background": "light"
          }
        }
      ]
    },
    {
      "cell_type": "markdown",
      "metadata": {
        "id": "dl-kSbFKPe8O",
        "colab_type": "text"
      },
      "source": [
        "## Uso de AWS con Comprehend\n",
        "\n",
        "### Configuración de API y conección\n",
        "\n",
        "Primero hay que crear un fichero con la configuración de las claves de uusario de AWS.\n",
        "\n",
        "Crear un usuario en el servicio IAM, crearle una clave de acceso, se puede descagar el fichero .csv o copiar la clave desde ahí.\n",
        "\n",
        "Crear un fichero .txt con esta estructura:\n",
        "\n",
        "[default]\n",
        "\n",
        "aws_access_key_id=\n",
        "\n",
        "aws_secret_access_key=\n",
        "\n",
        "[Referencia:](https://docs.aws.amazon.com/cli/latest/userguide/cli-configure-files.html)\n",
        "\n",
        "Copiemos el fichero en una carpeta en nuestro Drive, activemos el drive y comencemos:"
      ]
    },
    {
      "cell_type": "code",
      "metadata": {
        "id": "3GhSg6O6PeWi",
        "colab_type": "code",
        "colab": {}
      },
      "source": [
        "!mkdir -p ~/.aws &&\\\n",
        "  cp /content/drive/My\\ Drive/AWS/credencials.txt ~/.aws/credentials"
      ],
      "execution_count": 69,
      "outputs": []
    },
    {
      "cell_type": "markdown",
      "metadata": {
        "id": "8QLVTHpNP5Mf",
        "colab_type": "text"
      },
      "source": [
        "Probar API con un ejemplo sencillo de análisis de sentimientos en una frase.\n",
        "Para esto usaremos el servicio de Comprehend de AWS "
      ]
    },
    {
      "cell_type": "code",
      "metadata": {
        "id": "VqefsG-UP7WY",
        "colab_type": "code",
        "colab": {
          "base_uri": "https://localhost:8080/",
          "height": 54
        },
        "outputId": "a26d14a0-3421-4427-f370-b9fa33bb73b9"
      },
      "source": [
        "import boto3\n",
        "comprehend = boto3.client(service_name='comprehend', region_name=\"us-east-2\")\n",
        "text = \"Este curso es una maravilla. Las clases virtuales también son buenas\"\n",
        "sentiment=comprehend.detect_sentiment(Text=text, LanguageCode='es')\n",
        "print(sentiment)"
      ],
      "execution_count": 70,
      "outputs": [
        {
          "output_type": "stream",
          "text": [
            "{'Sentiment': 'POSITIVE', 'SentimentScore': {'Positive': 0.9995027780532837, 'Negative': 3.235445183236152e-05, 'Neutral': 0.0004632946220226586, 'Mixed': 1.4984062772782636e-06}, 'ResponseMetadata': {'RequestId': 'd8429903-2c1b-477e-8fa6-6864e2563623', 'HTTPStatusCode': 200, 'HTTPHeaders': {'x-amzn-requestid': 'd8429903-2c1b-477e-8fa6-6864e2563623', 'content-type': 'application/x-amz-json-1.1', 'content-length': '166', 'date': 'Wed, 02 Sep 2020 23:15:54 GMT'}, 'RetryAttempts': 0}}\n"
          ],
          "name": "stdout"
        }
      ]
    },
    {
      "cell_type": "markdown",
      "metadata": {
        "id": "R38X730QTT9q",
        "colab_type": "text"
      },
      "source": [
        "Como se puede ver en el resultado tenemos el sentimiento y el score para cada uno, entre: Mixto, Negativo, Neutral y Positivo."
      ]
    },
    {
      "cell_type": "code",
      "metadata": {
        "id": "38-riQy3TUjO",
        "colab_type": "code",
        "colab": {
          "base_uri": "https://localhost:8080/",
          "height": 68
        },
        "outputId": "e961afea-b50b-4183-a12a-186953c6f0d9"
      },
      "source": [
        "print(sentiment['Sentiment'])\n",
        "s=sentiment['Sentiment'][0]+sentiment['Sentiment'][1:].lower()\n",
        "print(s)\n",
        "sentiment['SentimentScore'][s]"
      ],
      "execution_count": 99,
      "outputs": [
        {
          "output_type": "stream",
          "text": [
            "POSITIVE\n",
            "Positive\n"
          ],
          "name": "stdout"
        },
        {
          "output_type": "execute_result",
          "data": {
            "text/plain": [
              "0.9995027780532837"
            ]
          },
          "metadata": {
            "tags": []
          },
          "execution_count": 99
        }
      ]
    },
    {
      "cell_type": "code",
      "metadata": {
        "id": "6xpcgPnUjZgB",
        "colab_type": "code",
        "colab": {}
      },
      "source": [
        "comprehend = boto3.client(service_name='comprehend', region_name=\"us-east-2\")\n",
        "def detect_Sentiment_AWS(comprehend,text):\n",
        "  sentiment=comprehend.detect_sentiment(Text=text, LanguageCode='es')\n",
        "  s=sentiment['Sentiment'][0]+sentiment['Sentiment'][1:].lower()\n",
        "  return [sentiment['Sentiment'], sentiment['SentimentScore'][s]]"
      ],
      "execution_count": 71,
      "outputs": []
    },
    {
      "cell_type": "code",
      "metadata": {
        "id": "PitFw9jwim6v",
        "colab_type": "code",
        "colab": {}
      },
      "source": [
        "df_clean['Sent_AWS']=df_clean['tweet'].apply(lambda text: detect_Sentiment_AWS(comprehend,text))"
      ],
      "execution_count": 54,
      "outputs": []
    },
    {
      "cell_type": "code",
      "metadata": {
        "id": "EIdvxMA9lUU1",
        "colab_type": "code",
        "colab": {
          "base_uri": "https://localhost:8080/",
          "height": 1000
        },
        "outputId": "26028fca-7df7-41d4-a9f8-55df82b6aa75"
      },
      "source": [
        "df_clean.head()"
      ],
      "execution_count": 55,
      "outputs": [
        {
          "output_type": "execute_result",
          "data": {
            "text/html": [
              "<div>\n",
              "<style scoped>\n",
              "    .dataframe tbody tr th:only-of-type {\n",
              "        vertical-align: middle;\n",
              "    }\n",
              "\n",
              "    .dataframe tbody tr th {\n",
              "        vertical-align: top;\n",
              "    }\n",
              "\n",
              "    .dataframe thead th {\n",
              "        text-align: right;\n",
              "    }\n",
              "</style>\n",
              "<table border=\"1\" class=\"dataframe\">\n",
              "  <thead>\n",
              "    <tr style=\"text-align: right;\">\n",
              "      <th></th>\n",
              "      <th>Unnamed: 0</th>\n",
              "      <th>tweet</th>\n",
              "      <th>user</th>\n",
              "      <th>user_followers</th>\n",
              "      <th>user_location</th>\n",
              "      <th>fav_count</th>\n",
              "      <th>rt_count</th>\n",
              "      <th>tweet_date</th>\n",
              "      <th>hashtags</th>\n",
              "      <th>mentions</th>\n",
              "      <th>sentiment</th>\n",
              "      <th>Sent_AWS</th>\n",
              "    </tr>\n",
              "  </thead>\n",
              "  <tbody>\n",
              "    <tr>\n",
              "      <th>0</th>\n",
              "      <td>0</td>\n",
              "      <td>se ven mejor gorditas yo no sé porque el perjuicio de la delgadez si así gorditas se ven muy bien</td>\n",
              "      <td>Karol Mejia</td>\n",
              "      <td>230</td>\n",
              "      <td>Colombia</td>\n",
              "      <td>0</td>\n",
              "      <td>0</td>\n",
              "      <td>2020-09-01 15:59:14</td>\n",
              "      <td>[]</td>\n",
              "      <td>['CaracolTV', 'Regias']</td>\n",
              "      <td>( , s, e,  , v, e, n,  , m, e, j, o, r,  , g, o, r, d, i, t, a, s,  , y, o,  , n, o,  , s, é,  , p, o, r, q, u, e,  , e, l,  , p, e, r, j, u, i, c, i, o,  , d, e,  , l, a,  , d, e, l, g, a, d, e, z,  , s, i,  , a, s, í,  , g, o, r, d, i, t, a, s,  , s, e,  , v, e, n,  , m, u, y,  , b, i, e, n,  )</td>\n",
              "      <td>[POSITIVE, 0.7599148154258728]</td>\n",
              "    </tr>\n",
              "    <tr>\n",
              "      <th>1</th>\n",
              "      <td>1</td>\n",
              "      <td>y a las en saludos ministro</td>\n",
              "      <td>Daniel Pérez</td>\n",
              "      <td>72144</td>\n",
              "      <td>Bogota, Colombia</td>\n",
              "      <td>2</td>\n",
              "      <td>0</td>\n",
              "      <td>2020-09-01 15:56:46</td>\n",
              "      <td>['CiclismoEntreGrandes']</td>\n",
              "      <td>['LucenErnesto', 'NairoQuinCo', 'SupermanlopezN', 'Eganbernal', 'CaracolTV', 'infopresidencia', 'MinDeporteCol', 'fedeciclismocol', 'WinSportsTV']</td>\n",
              "      <td>( , y,  , a,  , l, a, s,  , e, n,  , s, a, l, u, d, o, s,  , m, i, n, i, s, t, r, o,  )</td>\n",
              "      <td>[NEUTRAL, 0.8070828318595886]</td>\n",
              "    </tr>\n",
              "    <tr>\n",
              "      <th>2</th>\n",
              "      <td>2</td>\n",
              "      <td>gran trabajo de nuestros ciclistas en la etapa de hoy y  ¡entregándolo todo hasta el final</td>\n",
              "      <td>Ernesto Lucena</td>\n",
              "      <td>10822</td>\n",
              "      <td>NaN</td>\n",
              "      <td>4</td>\n",
              "      <td>0</td>\n",
              "      <td>2020-09-01 15:55:30</td>\n",
              "      <td>['TourDeFrancia']</td>\n",
              "      <td>['NairoQuinCo', 'SupermanlopezN', 'Eganbernal', 'CaracolTV']</td>\n",
              "      <td>(g, r, a, n,  , t, r, a, b, a, j, o,  , d, e,  , n, u, e, s, t, r, o, s,  , c, i, c, l, i, s, t, a, s,  , e, n,  , l, a,  , e, t, a, p, a,  , d, e,  , h, o, y,  , y,  ,  , ¡, e, n, t, r, e, g, á, n, d, o, l, o,  , t, o, d, o,  , h, a, s, t, a,  , e, l,  , f, i, n, a, l,  ,  )</td>\n",
              "      <td>[POSITIVE, 0.942391037940979]</td>\n",
              "    </tr>\n",
              "    <tr>\n",
              "      <th>3</th>\n",
              "      <td>3</td>\n",
              "      <td>por favor nesesitamos ayuda estamos pasando por una situación muy difícil no tengo comida para mis niños ayudennos por favor nesesitamos alimentacion</td>\n",
              "      <td>Lindarys Mejiarobles</td>\n",
              "      <td>48</td>\n",
              "      <td>Bogotá, D.C., Colombia</td>\n",
              "      <td>0</td>\n",
              "      <td>0</td>\n",
              "      <td>2020-09-01 15:53:57</td>\n",
              "      <td>[]</td>\n",
              "      <td>['CaracolTV', 'Regias']</td>\n",
              "      <td>( , p, o, r,  , f, a, v, o, r,  , n, e, s, e, s, i, t, a, m, o, s,  , a, y, u, d, a,  , e, s, t, a, m, o, s,  , p, a, s, a, n, d, o,  , p, o, r,  , u, n, a,  , s, i, t, u, a, c, i, ó, n,  , m, u, y,  , d, i, f, í, c, i, l,  , n, o,  , t, e, n, g, o,  , c, o, m, i, d, a,  , p, a, r, a,  , m, i, s,  , ...)</td>\n",
              "      <td>[NEGATIVE, 0.6846625804901123]</td>\n",
              "    </tr>\n",
              "    <tr>\n",
              "      <th>4</th>\n",
              "      <td>4</td>\n",
              "      <td>pero ud quiere que legalizar esa mierda y con ayuda de los medios afines al terrorismo como que tal le párese esta fabulosa información sesgada al terrorismo</td>\n",
              "      <td>pensaren plata</td>\n",
              "      <td>126</td>\n",
              "      <td>Colombia</td>\n",
              "      <td>0</td>\n",
              "      <td>0</td>\n",
              "      <td>2020-09-01 15:50:59</td>\n",
              "      <td>[]</td>\n",
              "      <td>['CarlosFGalan', 'COL_EJERCITO', 'CaracolTV', 'ghitis', 'ArgiroCasta58', 'CancinoAbog']</td>\n",
              "      <td>( , p, e, r, o,  , u, d,  , q, u, i, e, r, e,  , q, u, e,  , l, e, g, a, l, i, z, a, r,  , e, s, a,  , m, i, e, r, d, a,  , y,  , c, o, n,  , a, y, u, d, a,  , d, e,  , l, o, s,  , m, e, d, i, o, s,  , a, f, i, n, e, s,  , a, l,  , t, e, r, r, o, r, i, s, m, o,  , c, o, m, o,  , q, u, e,  , t, a, l, ...)</td>\n",
              "      <td>[NEGATIVE, 0.7823030948638916]</td>\n",
              "    </tr>\n",
              "  </tbody>\n",
              "</table>\n",
              "</div>"
            ],
            "text/plain": [
              "   Unnamed: 0  ...                        Sent_AWS\n",
              "0           0  ...  [POSITIVE, 0.7599148154258728]\n",
              "1           1  ...   [NEUTRAL, 0.8070828318595886]\n",
              "2           2  ...   [POSITIVE, 0.942391037940979]\n",
              "3           3  ...  [NEGATIVE, 0.6846625804901123]\n",
              "4           4  ...  [NEGATIVE, 0.7823030948638916]\n",
              "\n",
              "[5 rows x 12 columns]"
            ]
          },
          "metadata": {
            "tags": []
          },
          "execution_count": 55
        }
      ]
    },
    {
      "cell_type": "code",
      "metadata": {
        "id": "ybtctTWX8WPh",
        "colab_type": "code",
        "colab": {}
      },
      "source": [
        "# Dividir la columna Sent_AWS\n",
        "df_clean[['sentimentAWS','polarityAWS']] = pd.DataFrame(df_clean.Sent_AWS.tolist(), index= df_clean.index)"
      ],
      "execution_count": 94,
      "outputs": []
    },
    {
      "cell_type": "code",
      "metadata": {
        "id": "HUvz_ue18v9l",
        "colab_type": "code",
        "colab": {
          "base_uri": "https://localhost:8080/",
          "height": 322
        },
        "outputId": "38490838-4876-474b-d38d-b2c2c038a910"
      },
      "source": [
        "df_clean.sentimentAWS.value_counts().plot(kind='bar')"
      ],
      "execution_count": 96,
      "outputs": [
        {
          "output_type": "execute_result",
          "data": {
            "text/plain": [
              "<matplotlib.axes._subplots.AxesSubplot at 0x7f05dd91b940>"
            ]
          },
          "metadata": {
            "tags": []
          },
          "execution_count": 96
        },
        {
          "output_type": "display_data",
          "data": {
            "image/png": "[encoded data removed]",
            "text/plain": [
              "<Figure size 432x288 with 1 Axes>"
            ]
          },
          "metadata": {
            "tags": [],
            "needs_background": "light"
          }
        }
      ]
    },
    {
      "cell_type": "code",
      "metadata": {
        "id": "-7MD3kxjVyjE",
        "colab_type": "code",
        "colab": {
          "base_uri": "https://localhost:8080/",
          "height": 153
        },
        "outputId": "d8513f4c-7060-4841-fe1e-ee5ab586d40d"
      },
      "source": [
        "comprehend.detect_dominant_language(Text=text)"
      ],
      "execution_count": 107,
      "outputs": [
        {
          "output_type": "execute_result",
          "data": {
            "text/plain": [
              "{'Languages': [{'LanguageCode': 'es', 'Score': 0.9921553730964661}],\n",
              " 'ResponseMetadata': {'HTTPHeaders': {'content-length': '64',\n",
              "   'content-type': 'application/x-amz-json-1.1',\n",
              "   'date': 'Tue, 01 Sep 2020 20:25:39 GMT',\n",
              "   'x-amzn-requestid': '36438f4a-94ad-44d0-a549-3318e724aa09'},\n",
              "  'HTTPStatusCode': 200,\n",
              "  'RequestId': '36438f4a-94ad-44d0-a549-3318e724aa09',\n",
              "  'RetryAttempts': 0}}"
            ]
          },
          "metadata": {
            "tags": []
          },
          "execution_count": 107
        }
      ]
    },
    {
      "cell_type": "code",
      "metadata": {
        "id": "U25w1JIrVAv1",
        "colab_type": "code",
        "colab": {
          "base_uri": "https://localhost:8080/",
          "height": 1000
        },
        "outputId": "f64597ea-264e-4367-98e2-6adf1fca6f7e"
      },
      "source": [
        "comprehend.detect_syntax(Text=text,LanguageCode='es')"
      ],
      "execution_count": 103,
      "outputs": [
        {
          "output_type": "execute_result",
          "data": {
            "text/plain": [
              "{'ResponseMetadata': {'HTTPHeaders': {'content-length': '1425',\n",
              "   'content-type': 'application/x-amz-json-1.1',\n",
              "   'date': 'Tue, 01 Sep 2020 20:23:52 GMT',\n",
              "   'x-amzn-requestid': 'fee04550-8bb9-472f-867c-b630558b12c3'},\n",
              "  'HTTPStatusCode': 200,\n",
              "  'RequestId': 'fee04550-8bb9-472f-867c-b630558b12c3',\n",
              "  'RetryAttempts': 0},\n",
              " 'SyntaxTokens': [{'BeginOffset': 0,\n",
              "   'EndOffset': 4,\n",
              "   'PartOfSpeech': {'Score': 0.9989209175109863, 'Tag': 'DET'},\n",
              "   'Text': 'Este',\n",
              "   'TokenId': 1},\n",
              "  {'BeginOffset': 5,\n",
              "   'EndOffset': 10,\n",
              "   'PartOfSpeech': {'Score': 0.9957601428031921, 'Tag': 'NOUN'},\n",
              "   'Text': 'curso',\n",
              "   'TokenId': 2},\n",
              "  {'BeginOffset': 11,\n",
              "   'EndOffset': 13,\n",
              "   'PartOfSpeech': {'Score': 0.9999927282333374, 'Tag': 'VERB'},\n",
              "   'Text': 'es',\n",
              "   'TokenId': 3},\n",
              "  {'BeginOffset': 14,\n",
              "   'EndOffset': 17,\n",
              "   'PartOfSpeech': {'Score': 0.9988611936569214, 'Tag': 'DET'},\n",
              "   'Text': 'una',\n",
              "   'TokenId': 4},\n",
              "  {'BeginOffset': 18,\n",
              "   'EndOffset': 27,\n",
              "   'PartOfSpeech': {'Score': 0.9865432977676392, 'Tag': 'NOUN'},\n",
              "   'Text': 'maravilla',\n",
              "   'TokenId': 5},\n",
              "  {'BeginOffset': 27,\n",
              "   'EndOffset': 28,\n",
              "   'PartOfSpeech': {'Score': 0.9999725818634033, 'Tag': 'PUNCT'},\n",
              "   'Text': '.',\n",
              "   'TokenId': 6},\n",
              "  {'BeginOffset': 29,\n",
              "   'EndOffset': 32,\n",
              "   'PartOfSpeech': {'Score': 0.999992847442627, 'Tag': 'DET'},\n",
              "   'Text': 'Las',\n",
              "   'TokenId': 7},\n",
              "  {'BeginOffset': 33,\n",
              "   'EndOffset': 39,\n",
              "   'PartOfSpeech': {'Score': 0.9996544122695923, 'Tag': 'NOUN'},\n",
              "   'Text': 'clases',\n",
              "   'TokenId': 8},\n",
              "  {'BeginOffset': 40,\n",
              "   'EndOffset': 49,\n",
              "   'PartOfSpeech': {'Score': 0.9900949001312256, 'Tag': 'ADJ'},\n",
              "   'Text': 'virtuales',\n",
              "   'TokenId': 9},\n",
              "  {'BeginOffset': 50,\n",
              "   'EndOffset': 57,\n",
              "   'PartOfSpeech': {'Score': 0.9999768733978271, 'Tag': 'ADV'},\n",
              "   'Text': 'también',\n",
              "   'TokenId': 10},\n",
              "  {'BeginOffset': 58,\n",
              "   'EndOffset': 61,\n",
              "   'PartOfSpeech': {'Score': 0.9981348514556885, 'Tag': 'VERB'},\n",
              "   'Text': 'son',\n",
              "   'TokenId': 11},\n",
              "  {'BeginOffset': 62,\n",
              "   'EndOffset': 68,\n",
              "   'PartOfSpeech': {'Score': 0.99112468957901, 'Tag': 'ADJ'},\n",
              "   'Text': 'buenas',\n",
              "   'TokenId': 12}]}"
            ]
          },
          "metadata": {
            "tags": []
          },
          "execution_count": 103
        }
      ]
    },
    {
      "cell_type": "code",
      "metadata": {
        "id": "Hy-5QTM6WPYB",
        "colab_type": "code",
        "colab": {
          "base_uri": "https://localhost:8080/",
          "height": 153
        },
        "outputId": "232c5cd9-5913-42d8-94d2-0b9a41244608"
      },
      "source": [
        "comprehend.detect_entities(Text=text,LanguageCode='es')"
      ],
      "execution_count": 108,
      "outputs": [
        {
          "output_type": "execute_result",
          "data": {
            "text/plain": [
              "{'Entities': [],\n",
              " 'ResponseMetadata': {'HTTPHeaders': {'content-length': '15',\n",
              "   'content-type': 'application/x-amz-json-1.1',\n",
              "   'date': 'Tue, 01 Sep 2020 20:26:41 GMT',\n",
              "   'x-amzn-requestid': 'de45c725-6ffc-425e-812f-7c0410898735'},\n",
              "  'HTTPStatusCode': 200,\n",
              "  'RequestId': 'de45c725-6ffc-425e-812f-7c0410898735',\n",
              "  'RetryAttempts': 0}}"
            ]
          },
          "metadata": {
            "tags": []
          },
          "execution_count": 108
        }
      ]
    },
    {
      "cell_type": "code",
      "metadata": {
        "id": "kir3M_dHWdwC",
        "colab_type": "code",
        "colab": {
          "base_uri": "https://localhost:8080/",
          "height": 221
        },
        "outputId": "3f766d24-2443-453d-8fc6-9702bfd32e0b"
      },
      "source": [
        "comprehend.detect_entities(Text='Colombia es un país maravilloso',LanguageCode='es')"
      ],
      "execution_count": 109,
      "outputs": [
        {
          "output_type": "execute_result",
          "data": {
            "text/plain": [
              "{'Entities': [{'BeginOffset': 0,\n",
              "   'EndOffset': 8,\n",
              "   'Score': 0.9445917010307312,\n",
              "   'Text': 'Colombia',\n",
              "   'Type': 'LOCATION'}],\n",
              " 'ResponseMetadata': {'HTTPHeaders': {'content-length': '109',\n",
              "   'content-type': 'application/x-amz-json-1.1',\n",
              "   'date': 'Tue, 01 Sep 2020 20:27:48 GMT',\n",
              "   'x-amzn-requestid': 'bb0e4aec-c054-4f84-a0a4-33318df8110b'},\n",
              "  'HTTPStatusCode': 200,\n",
              "  'RequestId': 'bb0e4aec-c054-4f84-a0a4-33318df8110b',\n",
              "  'RetryAttempts': 0}}"
            ]
          },
          "metadata": {
            "tags": []
          },
          "execution_count": 109
        }
      ]
    },
    {
      "cell_type": "markdown",
      "metadata": {
        "id": "ZzmsY4xGXdFB",
        "colab_type": "text"
      },
      "source": [
        "Para traducir texto amazon tiene otra API"
      ]
    },
    {
      "cell_type": "code",
      "metadata": {
        "id": "tNxL0KRQW9U-",
        "colab_type": "code",
        "colab": {
          "base_uri": "https://localhost:8080/",
          "height": 204
        },
        "outputId": "03ccfed0-f38f-4aaf-ceb4-439eecbc9250"
      },
      "source": [
        "translate = boto3.client(service_name='translate', region_name=\"us-east-2\")\n",
        "result = translate.translate_text(Text=text,SourceLanguageCode=\"es\", TargetLanguageCode=\"en\")\n",
        "result"
      ],
      "execution_count": 110,
      "outputs": [
        {
          "output_type": "execute_result",
          "data": {
            "text/plain": [
              "{'ResponseMetadata': {'HTTPHeaders': {'cache-control': 'no-cache',\n",
              "   'content-length': '134',\n",
              "   'content-type': 'application/x-amz-json-1.1',\n",
              "   'date': 'Tue, 01 Sep 2020 20:36:25 GMT',\n",
              "   'x-amzn-requestid': 'b7ed6dc7-f269-4730-a04c-0bec87f8c886'},\n",
              "  'HTTPStatusCode': 200,\n",
              "  'RequestId': 'b7ed6dc7-f269-4730-a04c-0bec87f8c886',\n",
              "  'RetryAttempts': 0},\n",
              " 'SourceLanguageCode': 'es',\n",
              " 'TargetLanguageCode': 'en',\n",
              " 'TranslatedText': 'This course is a wonderful one. Virtual classes are also good'}"
            ]
          },
          "metadata": {
            "tags": []
          },
          "execution_count": 110
        }
      ]
    },
    {
      "cell_type": "code",
      "metadata": {
        "id": "cmFRu2k4YuEP",
        "colab_type": "code",
        "colab": {
          "base_uri": "https://localhost:8080/",
          "height": 35
        },
        "outputId": "5bbae1fb-8c14-485e-ae4d-5c128cf463d2"
      },
      "source": [
        "result['TranslatedText']"
      ],
      "execution_count": 111,
      "outputs": [
        {
          "output_type": "execute_result",
          "data": {
            "application/vnd.google.colaboratory.intrinsic+json": {
              "type": "string"
            },
            "text/plain": [
              "'This course is a wonderful one. Virtual classes are also good'"
            ]
          },
          "metadata": {
            "tags": []
          },
          "execution_count": 111
        }
      ]
    },
    {
      "cell_type": "markdown",
      "metadata": {
        "id": "OCHdY3CGkpnt",
        "colab_type": "text"
      },
      "source": [
        "## Análisis de sentimientos con Google Cloud"
      ]
    },
    {
      "cell_type": "code",
      "metadata": {
        "id": "ip4C9jcLlMCL",
        "colab_type": "code",
        "colab": {
          "base_uri": "https://localhost:8080/",
          "height": 411
        },
        "outputId": "dd54dad4-a79b-4b45-e980-dbe414c6e12c"
      },
      "source": [
        "!pip install google.cloud.language"
      ],
      "execution_count": 15,
      "outputs": [
        {
          "output_type": "stream",
          "text": [
            "Collecting google.cloud.language\n",
            "\u001b[?25l  Downloading https://files.pythonhosted.org/packages/ba/b8/965a97ba60287910d342623da1da615254bded3e0965728cf7fc6339b7c8/google_cloud_language-1.3.0-py2.py3-none-any.whl (83kB)\n",
            "     |████████████████████████████████| 92kB 2.5MB/s \n",
            "\u001b[?25hRequirement already satisfied: google-api-core[grpc]<2.0.0dev,>=1.14.0 in /usr/local/lib/python3.6/dist-packages (from google.cloud.language) (1.16.0)\n",
            "Requirement already satisfied: protobuf>=3.4.0 in /usr/local/lib/python3.6/dist-packages (from google-api-core[grpc]<2.0.0dev,>=1.14.0->google.cloud.language) (3.12.4)\n",
            "Requirement already satisfied: setuptools>=34.0.0 in /usr/local/lib/python3.6/dist-packages (from google-api-core[grpc]<2.0.0dev,>=1.14.0->google.cloud.language) (49.6.0)\n",
            "Requirement already satisfied: googleapis-common-protos<2.0dev,>=1.6.0 in /usr/local/lib/python3.6/dist-packages (from google-api-core[grpc]<2.0.0dev,>=1.14.0->google.cloud.language) (1.52.0)\n",
            "Requirement already satisfied: google-auth<2.0dev,>=0.4.0 in /usr/local/lib/python3.6/dist-packages (from google-api-core[grpc]<2.0.0dev,>=1.14.0->google.cloud.language) (1.17.2)\n",
            "Requirement already satisfied: pytz in /usr/local/lib/python3.6/dist-packages (from google-api-core[grpc]<2.0.0dev,>=1.14.0->google.cloud.language) (2018.9)\n",
            "Requirement already satisfied: six>=1.10.0 in /usr/local/lib/python3.6/dist-packages (from google-api-core[grpc]<2.0.0dev,>=1.14.0->google.cloud.language) (1.15.0)\n",
            "Requirement already satisfied: requests<3.0.0dev,>=2.18.0 in /usr/local/lib/python3.6/dist-packages (from google-api-core[grpc]<2.0.0dev,>=1.14.0->google.cloud.language) (2.23.0)\n",
            "Requirement already satisfied: grpcio<2.0dev,>=1.8.2; extra == \"grpc\" in /usr/local/lib/python3.6/dist-packages (from google-api-core[grpc]<2.0.0dev,>=1.14.0->google.cloud.language) (1.31.0)\n",
            "Requirement already satisfied: rsa<5,>=3.1.4; python_version >= \"3\" in /usr/local/lib/python3.6/dist-packages (from google-auth<2.0dev,>=0.4.0->google-api-core[grpc]<2.0.0dev,>=1.14.0->google.cloud.language) (4.6)\n",
            "Requirement already satisfied: pyasn1-modules>=0.2.1 in /usr/local/lib/python3.6/dist-packages (from google-auth<2.0dev,>=0.4.0->google-api-core[grpc]<2.0.0dev,>=1.14.0->google.cloud.language) (0.2.8)\n",
            "Requirement already satisfied: cachetools<5.0,>=2.0.0 in /usr/local/lib/python3.6/dist-packages (from google-auth<2.0dev,>=0.4.0->google-api-core[grpc]<2.0.0dev,>=1.14.0->google.cloud.language) (4.1.1)\n",
            "Requirement already satisfied: chardet<4,>=3.0.2 in /usr/local/lib/python3.6/dist-packages (from requests<3.0.0dev,>=2.18.0->google-api-core[grpc]<2.0.0dev,>=1.14.0->google.cloud.language) (3.0.4)\n",
            "Requirement already satisfied: certifi>=2017.4.17 in /usr/local/lib/python3.6/dist-packages (from requests<3.0.0dev,>=2.18.0->google-api-core[grpc]<2.0.0dev,>=1.14.0->google.cloud.language) (2020.6.20)\n",
            "Requirement already satisfied: idna<3,>=2.5 in /usr/local/lib/python3.6/dist-packages (from requests<3.0.0dev,>=2.18.0->google-api-core[grpc]<2.0.0dev,>=1.14.0->google.cloud.language) (2.10)\n",
            "Requirement already satisfied: urllib3!=1.25.0,!=1.25.1,<1.26,>=1.21.1 in /usr/local/lib/python3.6/dist-packages (from requests<3.0.0dev,>=2.18.0->google-api-core[grpc]<2.0.0dev,>=1.14.0->google.cloud.language) (1.24.3)\n",
            "Requirement already satisfied: pyasn1>=0.1.3 in /usr/local/lib/python3.6/dist-packages (from rsa<5,>=3.1.4; python_version >= \"3\"->google-auth<2.0dev,>=0.4.0->google-api-core[grpc]<2.0.0dev,>=1.14.0->google.cloud.language) (0.4.8)\n",
            "Installing collected packages: google.cloud.language\n",
            "Successfully installed google.cloud.language\n"
          ],
          "name": "stdout"
        }
      ]
    },
    {
      "cell_type": "code",
      "metadata": {
        "id": "mny5kIz9lSOA",
        "colab_type": "code",
        "colab": {}
      },
      "source": [
        "import google.cloud.language as language\n",
        "from google.cloud.language import enums\n",
        "from google.cloud.language import types"
      ],
      "execution_count": 16,
      "outputs": []
    },
    {
      "cell_type": "markdown",
      "metadata": {
        "id": "UtaV0iaM1WPB",
        "colab_type": "text"
      },
      "source": [
        "Debe habilitar la API de Language\n",
        "\n",
        "Debe configurar la pantalla de consentimiento de OAuth\n",
        "\n",
        "Crear una cuenta de servicio y guardar las credenciales en un .json"
      ]
    },
    {
      "cell_type": "code",
      "metadata": {
        "id": "ZAVMzZ19mt9n",
        "colab_type": "code",
        "colab": {}
      },
      "source": [
        "import os\n",
        "#Cargar el json que descargamos de la cuenta de servicio\n",
        "os.environ['GOOGLE_APPLICATION_CREDENTIALS']='/content/drive/My Drive/Analitics_Esp/googleapipython.json'"
      ],
      "execution_count": 17,
      "outputs": []
    },
    {
      "cell_type": "code",
      "metadata": {
        "id": "KFsSkR77P4CF",
        "colab_type": "code",
        "colab": {}
      },
      "source": [
        "client = language.LanguageServiceClient()"
      ],
      "execution_count": 18,
      "outputs": []
    },
    {
      "cell_type": "code",
      "metadata": {
        "id": "Lcr-KYXwn0N1",
        "colab_type": "code",
        "colab": {}
      },
      "source": [
        "encoding_type = enums.EncodingType.UTF8\n",
        "type_document=enums.Document.Type.PLAIN_TEXT\n",
        "lang='es'\n",
        "text=\"Este grupo es súper malo\"\n",
        "document = types.Document(\n",
        "        content=text,\n",
        "        type=type_document,\n",
        "        language=lang\n",
        "        )\n",
        "response= client.analyze_sentiment(document=document,encoding_type=encoding_type)"
      ],
      "execution_count": 182,
      "outputs": []
    },
    {
      "cell_type": "code",
      "metadata": {
        "id": "zfzs0jj13A6J",
        "colab_type": "code",
        "colab": {
          "base_uri": "https://localhost:8080/",
          "height": 255
        },
        "outputId": "48ba70f7-dcc6-4293-abeb-cae3f113ef68"
      },
      "source": [
        "response"
      ],
      "execution_count": 183,
      "outputs": [
        {
          "output_type": "execute_result",
          "data": {
            "text/plain": [
              "document_sentiment {\n",
              "  magnitude: 0.699999988079071\n",
              "  score: -0.699999988079071\n",
              "}\n",
              "language: \"es\"\n",
              "sentences {\n",
              "  text {\n",
              "    content: \"Este grupo es s\\303\\272per malo\"\n",
              "  }\n",
              "  sentiment {\n",
              "    magnitude: 0.699999988079071\n",
              "    score: -0.699999988079071\n",
              "  }\n",
              "}"
            ]
          },
          "metadata": {
            "tags": []
          },
          "execution_count": 183
        }
      ]
    },
    {
      "cell_type": "code",
      "metadata": {
        "id": "r9ypoNiB3Yhr",
        "colab_type": "code",
        "colab": {
          "base_uri": "https://localhost:8080/",
          "height": 51
        },
        "outputId": "4727c48d-91e7-43ed-ce28-f79b504ddf7d"
      },
      "source": [
        "score = response.document_sentiment.score\n",
        "magnitude = response.document_sentiment.magnitude\n",
        "for index, sentence in enumerate(response.sentences):\n",
        "    sentence_sentiment = sentence.sentiment.score\n",
        "    sentence_magnitude = sentence.sentiment.magnitude\n",
        "    print('{} : score: {} magnitud: {}'.format(sentence.text.content, sentence_sentiment, sentence_magnitude))\n",
        "s= 'Positivo'\n",
        "print('Sentimiento general: ',score)"
      ],
      "execution_count": 185,
      "outputs": [
        {
          "output_type": "stream",
          "text": [
            "Este grupo es súper malo : score: -0.699999988079071 magnitud: 0.699999988079071\n",
            "Sentimiento general:  -0.699999988079071\n"
          ],
          "name": "stdout"
        }
      ]
    },
    {
      "cell_type": "code",
      "metadata": {
        "id": "yasSgqkraccV",
        "colab_type": "code",
        "colab": {
          "base_uri": "https://localhost:8080/",
          "height": 255
        },
        "outputId": "d0ef2021-1859-487f-f146-1713f71b328a"
      },
      "source": [
        "text='Esto está mal'\n",
        "document = types.Document(content=text,type=type_document,language=lang)\n",
        "response= client.analyze_sentiment(document=document,encoding_type=encoding_type)\n",
        "response"
      ],
      "execution_count": 117,
      "outputs": [
        {
          "output_type": "execute_result",
          "data": {
            "text/plain": [
              "document_sentiment {\n",
              "  magnitude: 0.5\n",
              "  score: -0.5\n",
              "}\n",
              "language: \"es\"\n",
              "sentences {\n",
              "  text {\n",
              "    content: \"Esto est\\303\\241 mal\"\n",
              "  }\n",
              "  sentiment {\n",
              "    magnitude: 0.5\n",
              "    score: -0.5\n",
              "  }\n",
              "}"
            ]
          },
          "metadata": {
            "tags": []
          },
          "execution_count": 117
        }
      ]
    },
    {
      "cell_type": "code",
      "metadata": {
        "id": "u3q3wLxlchhS",
        "colab_type": "code",
        "colab": {
          "base_uri": "https://localhost:8080/",
          "height": 1000
        },
        "outputId": "3b6daa37-7a45-4703-c2cf-e5496e0a3a3a"
      },
      "source": [
        "client.analyze_entity_sentiment(document=document,encoding_type=encoding_type)"
      ],
      "execution_count": 125,
      "outputs": [
        {
          "output_type": "execute_result",
          "data": {
            "text/plain": [
              "entities {\n",
              "  name: \"curso\"\n",
              "  type: OTHER\n",
              "  salience: 0.4793348014354706\n",
              "  mentions {\n",
              "    text {\n",
              "      content: \"curso\"\n",
              "      begin_offset: 5\n",
              "    }\n",
              "    type: COMMON\n",
              "    sentiment {\n",
              "      magnitude: 0.8999999761581421\n",
              "      score: 0.8999999761581421\n",
              "    }\n",
              "  }\n",
              "  sentiment {\n",
              "    magnitude: 0.8999999761581421\n",
              "    score: 0.8999999761581421\n",
              "  }\n",
              "}\n",
              "entities {\n",
              "  name: \"maravilla\"\n",
              "  type: OTHER\n",
              "  salience: 0.34490063786506653\n",
              "  mentions {\n",
              "    text {\n",
              "      content: \"maravilla\"\n",
              "      begin_offset: 18\n",
              "    }\n",
              "    type: COMMON\n",
              "    sentiment {\n",
              "      magnitude: 0.800000011920929\n",
              "      score: 0.800000011920929\n",
              "    }\n",
              "  }\n",
              "  sentiment {\n",
              "    magnitude: 0.800000011920929\n",
              "    score: 0.800000011920929\n",
              "  }\n",
              "}\n",
              "entities {\n",
              "  name: \"clases\"\n",
              "  type: OTHER\n",
              "  salience: 0.17576457560062408\n",
              "  mentions {\n",
              "    text {\n",
              "      content: \"clases\"\n",
              "      begin_offset: 33\n",
              "    }\n",
              "    type: COMMON\n",
              "    sentiment {\n",
              "      magnitude: 0.8999999761581421\n",
              "      score: 0.8999999761581421\n",
              "    }\n",
              "  }\n",
              "  sentiment {\n",
              "    magnitude: 0.8999999761581421\n",
              "    score: 0.8999999761581421\n",
              "  }\n",
              "}\n",
              "language: \"es\""
            ]
          },
          "metadata": {
            "tags": []
          },
          "execution_count": 125
        }
      ]
    },
    {
      "cell_type": "markdown",
      "metadata": {
        "id": "fgPulmrjW3H_",
        "colab_type": "text"
      },
      "source": [
        "Evaluar los tweets."
      ]
    },
    {
      "cell_type": "code",
      "metadata": {
        "id": "jb6IoieS8_Mx",
        "colab_type": "code",
        "colab": {}
      },
      "source": [
        "client = language.LanguageServiceClient()\n",
        "def detect_Sentiment_Google(client,text):\n",
        "  document = types.Document(\n",
        "        content=text,\n",
        "        type=enums.Document.Type.PLAIN_TEXT,\n",
        "        language='es'\n",
        "        )\n",
        "  response=client.analyze_sentiment(document=document,encoding_type=enums.EncodingType.UTF8)\n",
        "  score = response.document_sentiment.score\n",
        "  magnitude = response.document_sentiment.magnitude\n",
        "  sent= 'POSITIVE' if score>0.25 else 'NEGATIVE' if score<=-0.25 else 'NEUTRAL'\n",
        "  return [sent, score]"
      ],
      "execution_count": 186,
      "outputs": []
    },
    {
      "cell_type": "code",
      "metadata": {
        "id": "zzp-T-OzGf44",
        "colab_type": "code",
        "colab": {
          "base_uri": "https://localhost:8080/",
          "height": 34
        },
        "outputId": "b20ee437-243f-4fd3-945a-3297c49113aa"
      },
      "source": [
        "detect_Sentiment_Google(client,text)"
      ],
      "execution_count": 187,
      "outputs": [
        {
          "output_type": "execute_result",
          "data": {
            "text/plain": [
              "['NEGATIVE', -0.699999988079071]"
            ]
          },
          "metadata": {
            "tags": []
          },
          "execution_count": 187
        }
      ]
    },
    {
      "cell_type": "code",
      "metadata": {
        "id": "EelXIu8YNKHg",
        "colab_type": "code",
        "colab": {}
      },
      "source": [
        "import time"
      ],
      "execution_count": 188,
      "outputs": []
    },
    {
      "cell_type": "code",
      "metadata": {
        "id": "2tTn-xibg2Js",
        "colab_type": "code",
        "colab": {}
      },
      "source": [
        "sentimentGoogle=[]\n",
        "scoreGoogle=[]\n",
        "i=0\n",
        "for t in df_clean['tweet']:\n",
        "  if i>500:\n",
        "    time.sleep(65)\n",
        "    i=0\n",
        "  sent, score=detect_Sentiment_Google(client,t)\n",
        "  sentimentGoogle.append(sent)\n",
        "  scoreGoogle.append(score)\n",
        "  i=i+1"
      ],
      "execution_count": 145,
      "outputs": []
    },
    {
      "cell_type": "code",
      "metadata": {
        "id": "AlLSpnx6n2LF",
        "colab_type": "code",
        "colab": {}
      },
      "source": [
        "df_clean['sentimentGoogle']=sentimentGoogle\n",
        "df_clean['polarityGoogle']=scoreGoogle"
      ],
      "execution_count": 146,
      "outputs": []
    },
    {
      "cell_type": "code",
      "metadata": {
        "colab_type": "code",
        "id": "3BMlb19sewPO",
        "colab": {}
      },
      "source": [
        "#df_clean['Sent_Google']=df_clean['tweet'].apply(lambda text: detect_Sentiment_Google(client,text))"
      ],
      "execution_count": null,
      "outputs": []
    },
    {
      "cell_type": "code",
      "metadata": {
        "id": "t04EahYZfoP2",
        "colab_type": "code",
        "colab": {
          "base_uri": "https://localhost:8080/",
          "height": 1000
        },
        "outputId": "e07f544a-943f-4bac-f290-d634f41a2fd5"
      },
      "source": [
        "df_clean.head(7)"
      ],
      "execution_count": 194,
      "outputs": [
        {
          "output_type": "execute_result",
          "data": {
            "text/html": [
              "<div>\n",
              "<style scoped>\n",
              "    .dataframe tbody tr th:only-of-type {\n",
              "        vertical-align: middle;\n",
              "    }\n",
              "\n",
              "    .dataframe tbody tr th {\n",
              "        vertical-align: top;\n",
              "    }\n",
              "\n",
              "    .dataframe thead th {\n",
              "        text-align: right;\n",
              "    }\n",
              "</style>\n",
              "<table border=\"1\" class=\"dataframe\">\n",
              "  <thead>\n",
              "    <tr style=\"text-align: right;\">\n",
              "      <th></th>\n",
              "      <th>Unnamed: 0</th>\n",
              "      <th>tweet</th>\n",
              "      <th>user</th>\n",
              "      <th>user_followers</th>\n",
              "      <th>user_location</th>\n",
              "      <th>fav_count</th>\n",
              "      <th>rt_count</th>\n",
              "      <th>tweet_date</th>\n",
              "      <th>hashtags</th>\n",
              "      <th>mentions</th>\n",
              "      <th>sentiment</th>\n",
              "      <th>Sent_AWS</th>\n",
              "      <th>sentimentTextBlob</th>\n",
              "      <th>TextBlob</th>\n",
              "      <th>sentimentAWS</th>\n",
              "      <th>polarityAWS</th>\n",
              "      <th>sentimentGoogle</th>\n",
              "      <th>polarityGoogle</th>\n",
              "    </tr>\n",
              "  </thead>\n",
              "  <tbody>\n",
              "    <tr>\n",
              "      <th>0</th>\n",
              "      <td>0</td>\n",
              "      <td>se ven mejor gorditas yo no sé porque el perjuicio de la delgadez si así gorditas se ven muy bien</td>\n",
              "      <td>Karol Mejia</td>\n",
              "      <td>230</td>\n",
              "      <td>Colombia</td>\n",
              "      <td>0</td>\n",
              "      <td>0</td>\n",
              "      <td>2020-09-01 15:59:14</td>\n",
              "      <td>[]</td>\n",
              "      <td>['CaracolTV', 'Regias']</td>\n",
              "      <td>neutral</td>\n",
              "      <td>[POSITIVE, 0.7599148154258728]</td>\n",
              "      <td>0.0</td>\n",
              "      <td>( , s, e,  , v, e, n,  , m, e, j, o, r,  , g, o, r, d, i, t, a, s,  , y, o,  , n, o,  , s, é,  , p, o, r, q, u, e,  , e, l,  , p, e, r, j, u, i, c, i, o,  , d, e,  , l, a,  , d, e, l, g, a, d, e, z,  , s, i,  , a, s, í,  , g, o, r, d, i, t, a, s,  , s, e,  , v, e, n,  , m, u, y,  , b, i, e, n,  )</td>\n",
              "      <td>POSITIVE</td>\n",
              "      <td>0.759915</td>\n",
              "      <td>POSITIVE</td>\n",
              "      <td>0.9</td>\n",
              "    </tr>\n",
              "    <tr>\n",
              "      <th>1</th>\n",
              "      <td>1</td>\n",
              "      <td>y a las en saludos ministro</td>\n",
              "      <td>Daniel Pérez</td>\n",
              "      <td>72144</td>\n",
              "      <td>Bogota, Colombia</td>\n",
              "      <td>2</td>\n",
              "      <td>0</td>\n",
              "      <td>2020-09-01 15:56:46</td>\n",
              "      <td>['CiclismoEntreGrandes']</td>\n",
              "      <td>['LucenErnesto', 'NairoQuinCo', 'SupermanlopezN', 'Eganbernal', 'CaracolTV', 'infopresidencia', 'MinDeporteCol', 'fedeciclismocol', 'WinSportsTV']</td>\n",
              "      <td>neutral</td>\n",
              "      <td>[NEUTRAL, 0.8070828318595886]</td>\n",
              "      <td>0.0</td>\n",
              "      <td>( , y,  , a,  , l, a, s,  , e, n,  , s, a, l, u, d, o, s,  , m, i, n, i, s, t, r, o,  )</td>\n",
              "      <td>NEUTRAL</td>\n",
              "      <td>0.807083</td>\n",
              "      <td>POSITIVE</td>\n",
              "      <td>0.5</td>\n",
              "    </tr>\n",
              "    <tr>\n",
              "      <th>2</th>\n",
              "      <td>2</td>\n",
              "      <td>gran trabajo de nuestros ciclistas en la etapa de hoy y  ¡entregándolo todo hasta el final</td>\n",
              "      <td>Ernesto Lucena</td>\n",
              "      <td>10822</td>\n",
              "      <td>NaN</td>\n",
              "      <td>4</td>\n",
              "      <td>0</td>\n",
              "      <td>2020-09-01 15:55:30</td>\n",
              "      <td>['TourDeFrancia']</td>\n",
              "      <td>['NairoQuinCo', 'SupermanlopezN', 'Eganbernal', 'CaracolTV']</td>\n",
              "      <td>neutral</td>\n",
              "      <td>[POSITIVE, 0.942391037940979]</td>\n",
              "      <td>0.0</td>\n",
              "      <td>(g, r, a, n,  , t, r, a, b, a, j, o,  , d, e,  , n, u, e, s, t, r, o, s,  , c, i, c, l, i, s, t, a, s,  , e, n,  , l, a,  , e, t, a, p, a,  , d, e,  , h, o, y,  , y,  ,  , ¡, e, n, t, r, e, g, á, n, d, o, l, o,  , t, o, d, o,  , h, a, s, t, a,  , e, l,  , f, i, n, a, l,  ,  )</td>\n",
              "      <td>POSITIVE</td>\n",
              "      <td>0.942391</td>\n",
              "      <td>POSITIVE</td>\n",
              "      <td>0.9</td>\n",
              "    </tr>\n",
              "    <tr>\n",
              "      <th>3</th>\n",
              "      <td>3</td>\n",
              "      <td>por favor nesesitamos ayuda estamos pasando por una situación muy difícil no tengo comida para mis niños ayudennos por favor nesesitamos alimentacion</td>\n",
              "      <td>Lindarys Mejiarobles</td>\n",
              "      <td>48</td>\n",
              "      <td>Bogotá, D.C., Colombia</td>\n",
              "      <td>0</td>\n",
              "      <td>0</td>\n",
              "      <td>2020-09-01 15:53:57</td>\n",
              "      <td>[]</td>\n",
              "      <td>['CaracolTV', 'Regias']</td>\n",
              "      <td>neutral</td>\n",
              "      <td>[NEGATIVE, 0.6846625804901123]</td>\n",
              "      <td>0.0</td>\n",
              "      <td>( , p, o, r,  , f, a, v, o, r,  , n, e, s, e, s, i, t, a, m, o, s,  , a, y, u, d, a,  , e, s, t, a, m, o, s,  , p, a, s, a, n, d, o,  , p, o, r,  , u, n, a,  , s, i, t, u, a, c, i, ó, n,  , m, u, y,  , d, i, f, í, c, i, l,  , n, o,  , t, e, n, g, o,  , c, o, m, i, d, a,  , p, a, r, a,  , m, i, s,  , ...)</td>\n",
              "      <td>NEGATIVE</td>\n",
              "      <td>0.684663</td>\n",
              "      <td>NEUTRAL</td>\n",
              "      <td>-0.2</td>\n",
              "    </tr>\n",
              "    <tr>\n",
              "      <th>4</th>\n",
              "      <td>4</td>\n",
              "      <td>pero ud quiere que legalizar esa mierda y con ayuda de los medios afines al terrorismo como que tal le párese esta fabulosa información sesgada al terrorismo</td>\n",
              "      <td>pensaren plata</td>\n",
              "      <td>126</td>\n",
              "      <td>Colombia</td>\n",
              "      <td>0</td>\n",
              "      <td>0</td>\n",
              "      <td>2020-09-01 15:50:59</td>\n",
              "      <td>[]</td>\n",
              "      <td>['CarlosFGalan', 'COL_EJERCITO', 'CaracolTV', 'ghitis', 'ArgiroCasta58', 'CancinoAbog']</td>\n",
              "      <td>neutral</td>\n",
              "      <td>[NEGATIVE, 0.7823030948638916]</td>\n",
              "      <td>0.0</td>\n",
              "      <td>( , p, e, r, o,  , u, d,  , q, u, i, e, r, e,  , q, u, e,  , l, e, g, a, l, i, z, a, r,  , e, s, a,  , m, i, e, r, d, a,  , y,  , c, o, n,  , a, y, u, d, a,  , d, e,  , l, o, s,  , m, e, d, i, o, s,  , a, f, i, n, e, s,  , a, l,  , t, e, r, r, o, r, i, s, m, o,  , c, o, m, o,  , q, u, e,  , t, a, l, ...)</td>\n",
              "      <td>NEGATIVE</td>\n",
              "      <td>0.782303</td>\n",
              "      <td>NEGATIVE</td>\n",
              "      <td>-0.3</td>\n",
              "    </tr>\n",
              "    <tr>\n",
              "      <th>5</th>\n",
              "      <td>5</td>\n",
              "      <td>que bueno seria que volviera el programa cine arte que todos los viernes por la noche siempre habia una nueva película para ver y que mejor que lo conduzca un experto en cine</td>\n",
              "      <td>camilo muete🇨🇴</td>\n",
              "      <td>63</td>\n",
              "      <td>BOGOTA COLOMBIA</td>\n",
              "      <td>0</td>\n",
              "      <td>0</td>\n",
              "      <td>2020-09-01 15:48:05</td>\n",
              "      <td>[]</td>\n",
              "      <td>['CaracolTV', 'LUISCARLOSRUEDA']</td>\n",
              "      <td>neutral</td>\n",
              "      <td>[POSITIVE, 0.5409678220748901]</td>\n",
              "      <td>0.0</td>\n",
              "      <td>( , q, u, e,  , b, u, e, n, o,  , s, e, r, i, a,  , q, u, e,  , v, o, l, v, i, e, r, a,  , e, l,  , p, r, o, g, r, a, m, a,  , c, i, n, e,  , a, r, t, e,  , q, u, e,  , t, o, d, o, s,  , l, o, s,  , v, i, e, r, n, e, s,  , p, o, r,  , l, a,  , n, o, c, h, e,  , s, i, e, m, p, r, e,  , h, a, b, i, a, ...)</td>\n",
              "      <td>POSITIVE</td>\n",
              "      <td>0.540968</td>\n",
              "      <td>POSITIVE</td>\n",
              "      <td>0.6</td>\n",
              "    </tr>\n",
              "    <tr>\n",
              "      <th>6</th>\n",
              "      <td>6</td>\n",
              "      <td>con este texto pensé q hablaban de testigos contra auv</td>\n",
              "      <td>Rocio</td>\n",
              "      <td>132</td>\n",
              "      <td>NaN</td>\n",
              "      <td>0</td>\n",
              "      <td>0</td>\n",
              "      <td>2020-09-01 15:43:11</td>\n",
              "      <td>[]</td>\n",
              "      <td>['CaracolTV', 'CaracolPlay']</td>\n",
              "      <td>neutral</td>\n",
              "      <td>[NEGATIVE, 0.708642840385437]</td>\n",
              "      <td>0.0</td>\n",
              "      <td>( , c, o, n,  , e, s, t, e,  , t, e, x, t, o,  , p, e, n, s, é,  , q,  , h, a, b, l, a, b, a, n,  , d, e,  , t, e, s, t, i, g, o, s,  , c, o, n, t, r, a,  , a, u, v)</td>\n",
              "      <td>NEGATIVE</td>\n",
              "      <td>0.708643</td>\n",
              "      <td>NEUTRAL</td>\n",
              "      <td>0.0</td>\n",
              "    </tr>\n",
              "  </tbody>\n",
              "</table>\n",
              "</div>"
            ],
            "text/plain": [
              "   Unnamed: 0  ... polarityGoogle\n",
              "0           0  ...            0.9\n",
              "1           1  ...            0.5\n",
              "2           2  ...            0.9\n",
              "3           3  ...           -0.2\n",
              "4           4  ...           -0.3\n",
              "5           5  ...            0.6\n",
              "6           6  ...            0.0\n",
              "\n",
              "[7 rows x 18 columns]"
            ]
          },
          "metadata": {
            "tags": []
          },
          "execution_count": 194
        }
      ]
    },
    {
      "cell_type": "code",
      "metadata": {
        "id": "rtGOdhKIoNnT",
        "colab_type": "code",
        "colab": {
          "base_uri": "https://localhost:8080/",
          "height": 322
        },
        "outputId": "097effbe-ffa0-4ff9-cd31-8d3bdd5ae59a"
      },
      "source": [
        "df_clean['sentimentGoogle'].value_counts().plot(kind='bar')"
      ],
      "execution_count": 148,
      "outputs": [
        {
          "output_type": "execute_result",
          "data": {
            "text/plain": [
              "<matplotlib.axes._subplots.AxesSubplot at 0x7f05da06e828>"
            ]
          },
          "metadata": {
            "tags": []
          },
          "execution_count": 148
        },
        {
          "output_type": "display_data",
          "data": {
            "image/png": "[encoded data removed]",
            "text/plain": [
              "<Figure size 432x288 with 1 Axes>"
            ]
          },
          "metadata": {
            "tags": [],
            "needs_background": "light"
          }
        }
      ]
    },
    {
      "cell_type": "code",
      "metadata": {
        "id": "4ktvAx_OodnD",
        "colab_type": "code",
        "colab": {
          "base_uri": "https://localhost:8080/",
          "height": 241
        },
        "outputId": "e2831687-df49-4d84-af48-e7ad32f0fb0a"
      },
      "source": [
        "df_clean[df_clean['sentimentGoogle']=='POSITIVE']['tweet']"
      ],
      "execution_count": 151,
      "outputs": [
        {
          "output_type": "execute_result",
          "data": {
            "text/plain": [
              "0                                                                                     se ven mejor gorditas yo no sé porque el perjuicio de la delgadez si así gorditas se ven muy bien \n",
              "1                                                                                                                                                           y a las en saludos ministro \n",
              "2                                                                                           gran trabajo de nuestros ciclistas en la etapa de hoy y  ¡entregándolo todo hasta el final  \n",
              "5        que bueno seria que volviera el programa cine arte que todos los viernes por la noche siempre habia una nueva película para ver y que mejor que lo conduzca un experto en cine \n",
              "8                                                                                            son actrices de categoría y presumen mansiones y camionetas será que trabajan en hollywood \n",
              "                                                                                              ...                                                                                       \n",
              "1822                                                                      esta experiencia es parte del capítulo pedagogía y mediación en juntos aparte - sigue el capítulo completo en \n",
              "1823                                                                      esta experiencia es parte del capítulo pedagogía y mediación en juntos aparte - sigue el capítulo completo en \n",
              "1824                                                                      esta experiencia es parte del capítulo pedagogía y mediación en juntos aparte - sigue el capítulo completo en \n",
              "1826                                                                                                                                             ¿habéis leído bien y bueno ¿y vosotros \n",
              "1827                                                                                              qué persona en su sano juicio paga a estar hora por ver cuentos de los hermanos grimm \n",
              "Name: tweet, Length: 712, dtype: object"
            ]
          },
          "metadata": {
            "tags": []
          },
          "execution_count": 151
        }
      ]
    },
    {
      "cell_type": "code",
      "metadata": {
        "id": "R0muBYprdrxq",
        "colab_type": "code",
        "colab": {
          "base_uri": "https://localhost:8080/",
          "height": 1000
        },
        "outputId": "e644f4a9-70f1-47bc-9ff0-fba921663abb"
      },
      "source": [
        "client.analyze_syntax(document=document)"
      ],
      "execution_count": 126,
      "outputs": [
        {
          "output_type": "execute_result",
          "data": {
            "text/plain": [
              "sentences {\n",
              "  text {\n",
              "    content: \"Este curso es una maravilla.\"\n",
              "    begin_offset: -1\n",
              "  }\n",
              "}\n",
              "sentences {\n",
              "  text {\n",
              "    content: \"Las clases virtuales tambi\\303\\251n son buenas\"\n",
              "    begin_offset: -1\n",
              "  }\n",
              "}\n",
              "tokens {\n",
              "  text {\n",
              "    content: \"Este\"\n",
              "    begin_offset: -1\n",
              "  }\n",
              "  part_of_speech {\n",
              "    tag: DET\n",
              "    gender: MASCULINE\n",
              "    number: SINGULAR\n",
              "    proper: NOT_PROPER\n",
              "  }\n",
              "  dependency_edge {\n",
              "    head_token_index: 1\n",
              "    label: DET\n",
              "  }\n",
              "  lemma: \"Este\"\n",
              "}\n",
              "tokens {\n",
              "  text {\n",
              "    content: \"curso\"\n",
              "    begin_offset: -1\n",
              "  }\n",
              "  part_of_speech {\n",
              "    tag: NOUN\n",
              "    gender: MASCULINE\n",
              "    number: SINGULAR\n",
              "    proper: NOT_PROPER\n",
              "  }\n",
              "  dependency_edge {\n",
              "    head_token_index: 2\n",
              "    label: NSUBJ\n",
              "  }\n",
              "  lemma: \"curso\"\n",
              "}\n",
              "tokens {\n",
              "  text {\n",
              "    content: \"es\"\n",
              "    begin_offset: -1\n",
              "  }\n",
              "  part_of_speech {\n",
              "    tag: VERB\n",
              "    aspect: IMPERFECTIVE\n",
              "    mood: INDICATIVE\n",
              "    number: SINGULAR\n",
              "    person: THIRD\n",
              "    proper: NOT_PROPER\n",
              "    tense: PRESENT\n",
              "    voice: ACTIVE\n",
              "  }\n",
              "  dependency_edge {\n",
              "    head_token_index: 2\n",
              "    label: ROOT\n",
              "  }\n",
              "  lemma: \"ser\"\n",
              "}\n",
              "tokens {\n",
              "  text {\n",
              "    content: \"una\"\n",
              "    begin_offset: -1\n",
              "  }\n",
              "  part_of_speech {\n",
              "    tag: DET\n",
              "    gender: FEMININE\n",
              "    number: SINGULAR\n",
              "    proper: NOT_PROPER\n",
              "  }\n",
              "  dependency_edge {\n",
              "    head_token_index: 4\n",
              "    label: DET\n",
              "  }\n",
              "  lemma: \"un\"\n",
              "}\n",
              "tokens {\n",
              "  text {\n",
              "    content: \"maravilla\"\n",
              "    begin_offset: -1\n",
              "  }\n",
              "  part_of_speech {\n",
              "    tag: NOUN\n",
              "    gender: FEMININE\n",
              "    number: SINGULAR\n",
              "    proper: NOT_PROPER\n",
              "  }\n",
              "  dependency_edge {\n",
              "    head_token_index: 2\n",
              "    label: ATTR\n",
              "  }\n",
              "  lemma: \"maravilla\"\n",
              "}\n",
              "tokens {\n",
              "  text {\n",
              "    content: \".\"\n",
              "    begin_offset: -1\n",
              "  }\n",
              "  part_of_speech {\n",
              "    tag: PUNCT\n",
              "    proper: NOT_PROPER\n",
              "  }\n",
              "  dependency_edge {\n",
              "    head_token_index: 2\n",
              "    label: P\n",
              "  }\n",
              "  lemma: \".\"\n",
              "}\n",
              "tokens {\n",
              "  text {\n",
              "    content: \"Las\"\n",
              "    begin_offset: -1\n",
              "  }\n",
              "  part_of_speech {\n",
              "    tag: DET\n",
              "    gender: FEMININE\n",
              "    number: PLURAL\n",
              "    proper: NOT_PROPER\n",
              "  }\n",
              "  dependency_edge {\n",
              "    head_token_index: 7\n",
              "    label: DET\n",
              "  }\n",
              "  lemma: \"El\"\n",
              "}\n",
              "tokens {\n",
              "  text {\n",
              "    content: \"clases\"\n",
              "    begin_offset: -1\n",
              "  }\n",
              "  part_of_speech {\n",
              "    tag: NOUN\n",
              "    gender: FEMININE\n",
              "    number: PLURAL\n",
              "    proper: NOT_PROPER\n",
              "  }\n",
              "  dependency_edge {\n",
              "    head_token_index: 10\n",
              "    label: NSUBJ\n",
              "  }\n",
              "  lemma: \"clase\"\n",
              "}\n",
              "tokens {\n",
              "  text {\n",
              "    content: \"virtuales\"\n",
              "    begin_offset: -1\n",
              "  }\n",
              "  part_of_speech {\n",
              "    tag: ADJ\n",
              "    gender: FEMININE\n",
              "    number: PLURAL\n",
              "    proper: NOT_PROPER\n",
              "  }\n",
              "  dependency_edge {\n",
              "    head_token_index: 7\n",
              "    label: AMOD\n",
              "  }\n",
              "  lemma: \"virtual\"\n",
              "}\n",
              "tokens {\n",
              "  text {\n",
              "    content: \"tambi\\303\\251n\"\n",
              "    begin_offset: -1\n",
              "  }\n",
              "  part_of_speech {\n",
              "    tag: ADV\n",
              "    proper: NOT_PROPER\n",
              "  }\n",
              "  dependency_edge {\n",
              "    head_token_index: 10\n",
              "    label: ADVMOD\n",
              "  }\n",
              "  lemma: \"tambi\\303\\251n\"\n",
              "}\n",
              "tokens {\n",
              "  text {\n",
              "    content: \"son\"\n",
              "    begin_offset: -1\n",
              "  }\n",
              "  part_of_speech {\n",
              "    tag: VERB\n",
              "    aspect: IMPERFECTIVE\n",
              "    mood: INDICATIVE\n",
              "    number: PLURAL\n",
              "    person: THIRD\n",
              "    proper: NOT_PROPER\n",
              "    tense: PRESENT\n",
              "    voice: ACTIVE\n",
              "  }\n",
              "  dependency_edge {\n",
              "    head_token_index: 10\n",
              "    label: ROOT\n",
              "  }\n",
              "  lemma: \"ser\"\n",
              "}\n",
              "tokens {\n",
              "  text {\n",
              "    content: \"buenas\"\n",
              "    begin_offset: -1\n",
              "  }\n",
              "  part_of_speech {\n",
              "    tag: ADJ\n",
              "    gender: FEMININE\n",
              "    number: PLURAL\n",
              "    proper: NOT_PROPER\n",
              "  }\n",
              "  dependency_edge {\n",
              "    head_token_index: 10\n",
              "    label: ACOMP\n",
              "  }\n",
              "  lemma: \"bueno\"\n",
              "}\n",
              "language: \"es\""
            ]
          },
          "metadata": {
            "tags": []
          },
          "execution_count": 126
        }
      ]
    },
    {
      "cell_type": "markdown",
      "metadata": {
        "id": "u8wvlkZeBroU",
        "colab_type": "text"
      },
      "source": [
        "Traducir texto con google cloud"
      ]
    },
    {
      "cell_type": "code",
      "metadata": {
        "id": "SKHmx4QLBuzJ",
        "colab_type": "code",
        "colab": {}
      },
      "source": [
        "from google.cloud import translate"
      ],
      "execution_count": 19,
      "outputs": []
    },
    {
      "cell_type": "code",
      "metadata": {
        "id": "B0fHdNFPBwPS",
        "colab_type": "code",
        "colab": {}
      },
      "source": [
        "client = translate.Client()"
      ],
      "execution_count": 20,
      "outputs": []
    },
    {
      "cell_type": "code",
      "metadata": {
        "id": "j2QFjd8dCN6D",
        "colab_type": "code",
        "colab": {
          "base_uri": "https://localhost:8080/",
          "height": 51
        },
        "outputId": "74f9157a-0ab3-489e-938a-39e9ba45acdf"
      },
      "source": [
        "client.detect_language(['Soy feliz', \"I'm happy\"])"
      ],
      "execution_count": 39,
      "outputs": [
        {
          "output_type": "execute_result",
          "data": {
            "text/plain": [
              "[{'confidence': 1, 'input': 'Soy feliz', 'language': 'es'},\n",
              " {'confidence': 1, 'input': \"I'm happy\", 'language': 'en'}]"
            ]
          },
          "metadata": {
            "tags": []
          },
          "execution_count": 39
        }
      ]
    },
    {
      "cell_type": "code",
      "metadata": {
        "id": "3u-8WHN9Cyq4",
        "colab_type": "code",
        "colab": {
          "base_uri": "https://localhost:8080/",
          "height": 68
        },
        "outputId": "fbc9fd28-b94e-4279-cc73-198ad5690b80"
      },
      "source": [
        "client.translate('koszula',target_language='es')"
      ],
      "execution_count": 38,
      "outputs": [
        {
          "output_type": "execute_result",
          "data": {
            "text/plain": [
              "{'detectedSourceLanguage': 'pl',\n",
              " 'input': 'koszula',\n",
              " 'translatedText': 'camisa'}"
            ]
          },
          "metadata": {
            "tags": []
          },
          "execution_count": 38
        }
      ]
    },
    {
      "cell_type": "markdown",
      "metadata": {
        "id": "Kn-bCesF59-5",
        "colab_type": "text"
      },
      "source": [
        ""
      ]
    },
    {
      "cell_type": "markdown",
      "metadata": {
        "id": "9hxdPdrQ6iKH",
        "colab_type": "text"
      },
      "source": [
        "## Análisis de sentimientos con Emojis"
      ]
    },
    {
      "cell_type": "code",
      "metadata": {
        "id": "wHVuE6Ez5-sv",
        "colab_type": "code",
        "colab": {
          "base_uri": "https://localhost:8080/",
          "height": 71
        },
        "outputId": "011c9e6f-443e-4f02-9cf9-bee63f6ca94f"
      },
      "source": [
        "import csv\n",
        "import pandas as pd\n",
        "import matplotlib.pyplot as plt\n",
        "import seaborn as sns\n",
        "import itertools\n",
        "import collections\n",
        "import tweepy\n",
        "import nltk\n",
        "from textblob import TextBlob\n",
        "import re"
      ],
      "execution_count": 4,
      "outputs": [
        {
          "output_type": "stream",
          "text": [
            "/usr/local/lib/python3.6/dist-packages/statsmodels/tools/_testing.py:19: FutureWarning: pandas.util.testing is deprecated. Use the functions in the public API at pandas.testing instead.\n",
            "  import pandas.util.testing as tm\n"
          ],
          "name": "stderr"
        }
      ]
    },
    {
      "cell_type": "code",
      "metadata": {
        "id": "79W-RYUu6g9h",
        "colab_type": "code",
        "colab": {}
      },
      "source": [
        "pd.set_option('display.max_colwidth',2000)\n",
        "path='/content/drive/My Drive/Analitics_Esp/'\n",
        "df = pd.read_csv(path+'SearchCaracolTV_.csv', encoding='utf-8-sig')"
      ],
      "execution_count": 5,
      "outputs": []
    },
    {
      "cell_type": "code",
      "metadata": {
        "id": "CFo2ZiMiqY0G",
        "colab_type": "code",
        "colab": {}
      },
      "source": [
        "import re\n",
        "df_clean=clean_text(df,'tweet')"
      ],
      "execution_count": 8,
      "outputs": []
    },
    {
      "cell_type": "code",
      "metadata": {
        "id": "3y0o7ViuxgMI",
        "colab_type": "code",
        "colab": {
          "base_uri": "https://localhost:8080/",
          "height": 703
        },
        "outputId": "e3ea0d1d-9165-4dc3-d0b0-42fefd391023"
      },
      "source": [
        "df[['tweet']].head(20)"
      ],
      "execution_count": 9,
      "outputs": [
        {
          "output_type": "execute_result",
          "data": {
            "text/html": [
              "<div>\n",
              "<style scoped>\n",
              "    .dataframe tbody tr th:only-of-type {\n",
              "        vertical-align: middle;\n",
              "    }\n",
              "\n",
              "    .dataframe tbody tr th {\n",
              "        vertical-align: top;\n",
              "    }\n",
              "\n",
              "    .dataframe thead th {\n",
              "        text-align: right;\n",
              "    }\n",
              "</style>\n",
              "<table border=\"1\" class=\"dataframe\">\n",
              "  <thead>\n",
              "    <tr style=\"text-align: right;\">\n",
              "      <th></th>\n",
              "      <th>tweet</th>\n",
              "    </tr>\n",
              "  </thead>\n",
              "  <tbody>\n",
              "    <tr>\n",
              "      <th>0</th>\n",
              "      <td>se ven mejor gorditas... yo no sé porque el perjuicio de la delgadez si así gorditas se ven muy bien.</td>\n",
              "    </tr>\n",
              "    <tr>\n",
              "      <th>1</th>\n",
              "      <td>y a las : en saludos ministro.</td>\n",
              "    </tr>\n",
              "    <tr>\n",
              "      <th>2</th>\n",
              "      <td>🚴🏾‍♂️gran trabajo de nuestros ciclistas en la etapa de hoy: , y 🇨🇴. ¡entregándolo todo hasta el final! 🇫🇷</td>\n",
              "    </tr>\n",
              "    <tr>\n",
              "      <th>3</th>\n",
              "      <td>por favor nesesitamos ayuda estamos pasando por una situación muy difícil no tengo comida para mis niños ayudennos por favor nesesitamos alimentacion 😭🙏</td>\n",
              "    </tr>\n",
              "    <tr>\n",
              "      <th>4</th>\n",
              "      <td>pero ud quiere que legalizar esa mierda !! y con ayuda de los medios afines al terrorismo como . ? que tal le párese esta fabulosa información sesgada al terrorismo ?</td>\n",
              "    </tr>\n",
              "    <tr>\n",
              "      <th>5</th>\n",
              "      <td>que bueno seria que volviera el programa cine arte que todos los viernes por la noche siempre habia una nueva película para ver y que mejor que lo conduzca un experto en cine</td>\n",
              "    </tr>\n",
              "    <tr>\n",
              "      <th>6</th>\n",
              "      <td>con este texto, pensé q hablaban de testigos contra auv</td>\n",
              "    </tr>\n",
              "    <tr>\n",
              "      <th>7</th>\n",
              "      <td>los aviones del descaro , este gobierno no le corre sangre por la cara, les corre por los campos</td>\n",
              "    </tr>\n",
              "    <tr>\n",
              "      <th>8</th>\n",
              "      <td>son actrices de categoría y presumen mansiones y camionetas, será que trabajan en hollywood?</td>\n",
              "    </tr>\n",
              "    <tr>\n",
              "      <th>9</th>\n",
              "      <td>y por los medios como que su noticia \"mueren\" y no lo califica como asesinato o masacre. medios politizados, idiogilizados y lo peor, el asesinato de nuestros \"heroes\", por este es una noticia sin importancia... que asco produce.</td>\n",
              "    </tr>\n",
              "    <tr>\n",
              "      <th>10</th>\n",
              "      <td>estan jodidos con ese tipo de noticias absurdas.</td>\n",
              "    </tr>\n",
              "    <tr>\n",
              "      <th>11</th>\n",
              "      <td>que ve tv🇨🇴? 🇫🇷🚴 🇫🇷🚴 🎾🇺🇸♀️ 🇯🇵hibino🆚🇪🇸muguruza 🗣️📺</td>\n",
              "    </tr>\n",
              "    <tr>\n",
              "      <th>12</th>\n",
              "      <td>pleno pico de la pandemia, este país vuelto mierda por su corrupción en gobierno e instituciones, desempleo y pobreza por doquier y uds publicando está mierda de noticias que a nadie le importan!! faranduleros de mierda!!</td>\n",
              "    </tr>\n",
              "    <tr>\n",
              "      <th>13</th>\n",
              "      <td>ese es el talante de todo el séquito de este absurdo gobierno...</td>\n",
              "    </tr>\n",
              "    <tr>\n",
              "      <th>14</th>\n",
              "      <td>y pagando con millas</td>\n",
              "    </tr>\n",
              "    <tr>\n",
              "      <th>15</th>\n",
              "      <td>que alguien le cuente que efromovich salió de la junta de avianca por deudas</td>\n",
              "    </tr>\n",
              "    <tr>\n",
              "      <th>16</th>\n",
              "      <td>y con el cuento de que avianca es colombiana..</td>\n",
              "    </tr>\n",
              "    <tr>\n",
              "      <th>17</th>\n",
              "      <td>mata la producción tantos comerciales</td>\n",
              "    </tr>\n",
              "    <tr>\n",
              "      <th>18</th>\n",
              "      <td>doble moral. falta de etica</td>\n",
              "    </tr>\n",
              "    <tr>\n",
              "      <th>19</th>\n",
              "      <td>desde ibagué gana superman lópez</td>\n",
              "    </tr>\n",
              "  </tbody>\n",
              "</table>\n",
              "</div>"
            ],
            "text/plain": [
              "                                                                                                                                                                                                                                     tweet\n",
              "0                                                                                                                                    se ven mejor gorditas... yo no sé porque el perjuicio de la delgadez si así gorditas se ven muy bien.\n",
              "1                                                                                                                                                                                                           y a las : en saludos ministro.\n",
              "2                                                                                                                               🚴🏾‍♂️gran trabajo de nuestros ciclistas en la etapa de hoy: , y 🇨🇴. ¡entregándolo todo hasta el final! 🇫🇷 \n",
              "3                                                                                 por favor nesesitamos ayuda estamos pasando por una situación muy difícil no tengo comida para mis niños ayudennos por favor nesesitamos alimentacion 😭🙏\n",
              "4                                                                  pero ud quiere que legalizar esa mierda !! y con ayuda de los medios afines al terrorismo como . ? que tal le párese esta fabulosa información sesgada al terrorismo ? \n",
              "5                                                          que bueno seria que volviera el programa cine arte que todos los viernes por la noche siempre habia una nueva película para ver y que mejor que lo conduzca un experto en cine \n",
              "6                                                                                                                                                                                  con este texto, pensé q hablaban de testigos contra auv\n",
              "7                                                                                                                                         los aviones del descaro , este gobierno no le corre sangre por la cara, les corre por los campos\n",
              "8                                                                                                                                             son actrices de categoría y presumen mansiones y camionetas, será que trabajan en hollywood?\n",
              "9    y por los medios como que su noticia \"mueren\" y no lo califica como asesinato o masacre. medios politizados, idiogilizados y lo peor, el asesinato de nuestros \"heroes\", por este es una noticia sin importancia... que asco produce.\n",
              "10                                                                                                                                                                                        estan jodidos con ese tipo de noticias absurdas.\n",
              "11                                                                                                                                                                                      que ve tv🇨🇴? 🇫🇷🚴 🇫🇷🚴 🎾🇺🇸♀️ 🇯🇵hibino🆚🇪🇸muguruza 🗣️📺\n",
              "12           pleno pico de la pandemia, este país vuelto mierda por su corrupción en gobierno e instituciones, desempleo y pobreza por doquier y uds publicando está mierda de noticias que a nadie le importan!! faranduleros de mierda!!\n",
              "13                                                                                                                                                                        ese es el talante de todo el séquito de este absurdo gobierno...\n",
              "14                                                                                                                                                                                                                    y pagando con millas\n",
              "15                                                                                                                                                            que alguien le cuente que efromovich salió de la junta de avianca por deudas\n",
              "16                                                                                                                                                                                          y con el cuento de que avianca es colombiana..\n",
              "17                                                                                                                                                                                                   mata la producción tantos comerciales\n",
              "18                                                                                                                                                                                                            doble moral. falta de etica \n",
              "19                                                                                                                                                                                                        desde ibagué gana superman lópez"
            ]
          },
          "metadata": {
            "tags": []
          },
          "execution_count": 9
        }
      ]
    },
    {
      "cell_type": "markdown",
      "metadata": {
        "id": "QbxC4O4c9aut",
        "colab_type": "text"
      },
      "source": [
        "La otra opción es llevarlo a unicode"
      ]
    },
    {
      "cell_type": "code",
      "metadata": {
        "id": "dNdjfnJX9dQS",
        "colab_type": "code",
        "colab": {
          "base_uri": "https://localhost:8080/",
          "height": 54
        },
        "outputId": "363b7373-c8fd-4020-850d-44517e1828c0"
      },
      "source": [
        "tUNICODE=t.encode('unicode-escape')\n",
        "tUNICODE"
      ],
      "execution_count": 25,
      "outputs": [
        {
          "output_type": "execute_result",
          "data": {
            "text/plain": [
              "b'@CaracolTV @Regias Por favor nesesitamos ayuda estamos pasando por una situaci\\\\xf3n muy dif\\\\xedcil no tengo comida para mis Ni\\\\xf1os ayudennos por favor nesesitamos alimentacion \\\\U0001f62d\\\\U0001f64f'"
            ]
          },
          "metadata": {
            "tags": []
          },
          "execution_count": 25
        }
      ]
    },
    {
      "cell_type": "markdown",
      "metadata": {
        "id": "E2eci16tojFw",
        "colab_type": "text"
      },
      "source": [
        "Con la biblioteca emoji"
      ]
    },
    {
      "cell_type": "code",
      "metadata": {
        "id": "7NR0_I4_Dvut",
        "colab_type": "code",
        "colab": {
          "base_uri": "https://localhost:8080/",
          "height": 187
        },
        "outputId": "55714062-0125-43bb-adcd-435057cb4b87"
      },
      "source": [
        "!pip install emoji"
      ],
      "execution_count": 8,
      "outputs": [
        {
          "output_type": "stream",
          "text": [
            "Collecting emoji\n",
            "\u001b[?25l  Downloading https://files.pythonhosted.org/packages/ff/1c/1f1457fe52d0b30cbeebfd578483cedb3e3619108d2d5a21380dfecf8ffd/emoji-0.6.0.tar.gz (51kB)\n",
            "     |████████████████████████████████| 51kB 1.7MB/s \n",
            "\u001b[?25hBuilding wheels for collected packages: emoji\n",
            "  Building wheel for emoji (setup.py) ... \u001b[?25l\u001b[?25hdone\n",
            "  Created wheel for emoji: filename=emoji-0.6.0-cp36-none-any.whl size=49716 sha256=3a7523171689140259e5a8603c436bc27f7098e0bb9030076df162ff45ded783\n",
            "  Stored in directory: /root/.cache/pip/wheels/46/2c/8b/9dcf5216ca68e14e0320e283692dce8ae321cdc01e73e17796\n",
            "Successfully built emoji\n",
            "Installing collected packages: emoji\n",
            "Successfully installed emoji-0.6.0\n"
          ],
          "name": "stdout"
        }
      ]
    },
    {
      "cell_type": "code",
      "metadata": {
        "id": "Bh2keB9cBHut",
        "colab_type": "code",
        "colab": {}
      },
      "source": [
        "import emoji\n",
        "from emoji.unicode_codes import UNICODE_EMOJI"
      ],
      "execution_count": 9,
      "outputs": []
    },
    {
      "cell_type": "code",
      "metadata": {
        "id": "nD4Yb4Z7D1dB",
        "colab_type": "code",
        "colab": {
          "base_uri": "https://localhost:8080/",
          "height": 35
        },
        "outputId": "84e77acb-fffb-4c32-a0d0-ef8cdeb6da5e"
      },
      "source": [
        "emo = '😊'\n",
        "textEmo=UNICODE_EMOJI[emo]\n",
        "textEmo"
      ],
      "execution_count": 12,
      "outputs": [
        {
          "output_type": "execute_result",
          "data": {
            "application/vnd.google.colaboratory.intrinsic+json": {
              "type": "string"
            },
            "text/plain": [
              "':smiling_face_with_smiling_eyes:'"
            ]
          },
          "metadata": {
            "tags": []
          },
          "execution_count": 12
        }
      ]
    },
    {
      "cell_type": "code",
      "metadata": {
        "id": "J2p1eoztEAKf",
        "colab_type": "code",
        "colab": {
          "base_uri": "https://localhost:8080/",
          "height": 35
        },
        "outputId": "cfe39e09-ab96-4fd1-9d0e-d806c160289e"
      },
      "source": [
        "textEmo=textEmo.replace('_',' ')\n",
        "textEmo"
      ],
      "execution_count": 13,
      "outputs": [
        {
          "output_type": "execute_result",
          "data": {
            "application/vnd.google.colaboratory.intrinsic+json": {
              "type": "string"
            },
            "text/plain": [
              "':smiling face with smiling eyes:'"
            ]
          },
          "metadata": {
            "tags": []
          },
          "execution_count": 13
        }
      ]
    },
    {
      "cell_type": "code",
      "metadata": {
        "id": "1HvFBH0rEe-n",
        "colab_type": "code",
        "colab": {
          "base_uri": "https://localhost:8080/",
          "height": 35
        },
        "outputId": "2272c929-ba0e-49b9-c24b-49535bf19478"
      },
      "source": [
        "client = translate.Client()\n",
        "textEmoEsp=client.translate(textEmo,target_language='es')\n",
        "textEmoEsp['translatedText']"
      ],
      "execution_count": 21,
      "outputs": [
        {
          "output_type": "execute_result",
          "data": {
            "application/vnd.google.colaboratory.intrinsic+json": {
              "type": "string"
            },
            "text/plain": [
              "': rostro sonriente con ojos sonrientes:'"
            ]
          },
          "metadata": {
            "tags": []
          },
          "execution_count": 21
        }
      ]
    },
    {
      "cell_type": "code",
      "metadata": {
        "id": "G-PEUOzWN3JZ",
        "colab_type": "code",
        "colab": {}
      },
      "source": [
        "from collections import Counter"
      ],
      "execution_count": 11,
      "outputs": []
    },
    {
      "cell_type": "markdown",
      "metadata": {
        "id": "S4xDi7mAN_7r",
        "colab_type": "text"
      },
      "source": [
        "Podemos buscar todos los emojis en un texto y contar sus apariciones."
      ]
    },
    {
      "cell_type": "code",
      "metadata": {
        "id": "U41B_5woKRaU",
        "colab_type": "code",
        "colab": {
          "base_uri": "https://localhost:8080/",
          "height": 35
        },
        "outputId": "b56a3622-8b84-468f-e360-25816405233a"
      },
      "source": [
        "df_clean['tweet'][3]"
      ],
      "execution_count": 32,
      "outputs": [
        {
          "output_type": "execute_result",
          "data": {
            "application/vnd.google.colaboratory.intrinsic+json": {
              "type": "string"
            },
            "text/plain": [
              "' por favor nesesitamos ayuda estamos pasando por una situación muy difícil no tengo comida para mis niños ayudennos por favor nesesitamos alimentacion 😭🙏'"
            ]
          },
          "metadata": {
            "tags": []
          },
          "execution_count": 32
        }
      ]
    },
    {
      "cell_type": "code",
      "metadata": {
        "id": "iVoGoeUf-LNr",
        "colab_type": "code",
        "colab": {
          "base_uri": "https://localhost:8080/",
          "height": 34
        },
        "outputId": "47b8279e-ef17-4fc1-9657-e596bfbe0170"
      },
      "source": [
        "listEmojis=emoji.get_emoji_regexp().findall(dcopy['tweet'][11])\n",
        "listEmojis"
      ],
      "execution_count": 64,
      "outputs": [
        {
          "output_type": "execute_result",
          "data": {
            "text/plain": [
              "['🇨🇴', '🇫🇷', '🚴', '🇫🇷', '🚴', '🎾', '🇺🇸', '♀️', '🇯🇵', '🆚', '🇪🇸', '🗣️', '📺']"
            ]
          },
          "metadata": {
            "tags": []
          },
          "execution_count": 64
        }
      ]
    },
    {
      "cell_type": "code",
      "metadata": {
        "id": "dm6tj-LmIEes",
        "colab_type": "code",
        "colab": {
          "base_uri": "https://localhost:8080/",
          "height": 34
        },
        "outputId": "e9005362-8f25-42b8-bbd6-227eccc85ae5"
      },
      "source": [
        "listEmojis=emoji.get_emoji_regexp().findall(dcopy['tweet'][3])\n",
        "c = Counter(listEmojis)\n",
        "c.items()"
      ],
      "execution_count": 103,
      "outputs": [
        {
          "output_type": "execute_result",
          "data": {
            "text/plain": [
              "dict_values([1, 1])"
            ]
          },
          "metadata": {
            "tags": []
          },
          "execution_count": 103
        }
      ]
    },
    {
      "cell_type": "markdown",
      "metadata": {
        "id": "jE4M94aBOIks",
        "colab_type": "text"
      },
      "source": [
        "Para sustituir los emojis podemos traducir la descripción a español y sustituirla."
      ]
    },
    {
      "cell_type": "code",
      "metadata": {
        "id": "n1HeEkSLJR1W",
        "colab_type": "code",
        "colab": {
          "base_uri": "https://localhost:8080/",
          "height": 52
        },
        "outputId": "462e2a26-ad7a-42cc-e280-892317012eb9"
      },
      "source": [
        "t=df_clean['tweet'][11]\n",
        "listEmojis=emoji.get_emoji_regexp().findall(t)\n",
        "tnew=t\n",
        "for e in listEmojis:\n",
        "  textEmo=UNICODE_EMOJI[e]\n",
        "  textEmo=textEmo.replace('_',' ')\n",
        "  textEmoEsp=client.translate(textEmo,target_language='es')\n",
        "  enew=textEmoEsp['translatedText']\n",
        "  tnew=re.sub(u''+e,enew, tnew)\n",
        "  tnew=tnew.replace(':', ', ')\n",
        "  tnew=re.sub(r'\\s+',' ',tnew)\n",
        "  tnew=re.sub(r'(^\\s|\\s$)+','',tnew)\n",
        "tnew"
      ],
      "execution_count": 66,
      "outputs": [
        {
          "output_type": "execute_result",
          "data": {
            "application/vnd.google.colaboratory.intrinsic+json": {
              "type": "string"
            },
            "text/plain": [
              "'que ve tv, Colombia, ? , Francia, , persona en bicicleta, , Francia, , persona en bicicleta, , tenis, , Estados Unidos, , selector de signo femenino, , Japón, hibino, Botón VS, , España, muguruza , selector de cabeza parlante, , televisión,'"
            ]
          },
          "metadata": {
            "tags": []
          },
          "execution_count": 66
        }
      ]
    },
    {
      "cell_type": "code",
      "metadata": {
        "id": "xzdqlIi2oMVD",
        "colab_type": "code",
        "colab": {}
      },
      "source": [
        "def sub_emoji_text(tweet,client):\n",
        "  listEmojis=emoji.get_emoji_regexp().findall(tweet)\n",
        "  tnew=tweet\n",
        "  for e in listEmojis:\n",
        "    textEmo=UNICODE_EMOJI[e]\n",
        "    textEmo=textEmo.replace('_',' ')\n",
        "    textEmoEsp=client.translate(textEmo,target_language='es')\n",
        "    enew=textEmoEsp['translatedText']\n",
        "    tnew=re.sub(u''+e,enew, tnew)\n",
        "    tnew=tnew.replace(':', ', ')\n",
        "    tnew=re.sub(r'\\s+',' ',tnew)\n",
        "    tnew=re.sub(r'(^\\s|\\s$)+','',tnew)\n",
        "  return tnew"
      ],
      "execution_count": 58,
      "outputs": []
    },
    {
      "cell_type": "code",
      "metadata": {
        "id": "LxhVXpasyGWs",
        "colab_type": "code",
        "colab": {}
      },
      "source": [
        "dcopy=df_clean.copy()"
      ],
      "execution_count": 14,
      "outputs": []
    },
    {
      "cell_type": "code",
      "metadata": {
        "id": "tMrOmj40v-QQ",
        "colab_type": "code",
        "colab": {}
      },
      "source": [
        "client = translate.Client()\n",
        "df_clean['tweet']=df_clean['tweet'].apply(lambda t: sub_emoji_text(t,client))"
      ],
      "execution_count": 59,
      "outputs": []
    },
    {
      "cell_type": "code",
      "metadata": {
        "id": "_HAElZnnw3TL",
        "colab_type": "code",
        "colab": {
          "base_uri": "https://localhost:8080/",
          "height": 737
        },
        "outputId": "9dae07b6-13cf-48e5-b064-0bc85f6f9b11"
      },
      "source": [
        "df_clean[['tweet']].head(20)"
      ],
      "execution_count": 68,
      "outputs": [
        {
          "output_type": "execute_result",
          "data": {
            "text/html": [
              "<div>\n",
              "<style scoped>\n",
              "    .dataframe tbody tr th:only-of-type {\n",
              "        vertical-align: middle;\n",
              "    }\n",
              "\n",
              "    .dataframe tbody tr th {\n",
              "        vertical-align: top;\n",
              "    }\n",
              "\n",
              "    .dataframe thead th {\n",
              "        text-align: right;\n",
              "    }\n",
              "</style>\n",
              "<table border=\"1\" class=\"dataframe\">\n",
              "  <thead>\n",
              "    <tr style=\"text-align: right;\">\n",
              "      <th></th>\n",
              "      <th>tweet</th>\n",
              "    </tr>\n",
              "  </thead>\n",
              "  <tbody>\n",
              "    <tr>\n",
              "      <th>0</th>\n",
              "      <td>se ven mejor gorditas... yo no sé porque el perjuicio de la delgadez si así gorditas se ven muy bien.</td>\n",
              "    </tr>\n",
              "    <tr>\n",
              "      <th>1</th>\n",
              "      <td>y a las : en saludos ministro.</td>\n",
              "    </tr>\n",
              "    <tr>\n",
              "      <th>2</th>\n",
              "      <td>, hombre en bicicleta tono de piel oscuro medio, gran trabajo de nuestros ciclistas en la etapa de hoy, , y , Colombia, . ¡entregándolo todo hasta el final! , Francia,</td>\n",
              "    </tr>\n",
              "    <tr>\n",
              "      <th>3</th>\n",
              "      <td>por favor nesesitamos ayuda estamos pasando por una situación muy difícil no tengo comida para mis niños ayudennos por favor nesesitamos alimentacion , cara llorando fuerte, , manos juntas,</td>\n",
              "    </tr>\n",
              "    <tr>\n",
              "      <th>4</th>\n",
              "      <td>pero ud quiere que legalizar esa mierda !! y con ayuda de los medios afines al terrorismo como . ? que tal le párese esta fabulosa información sesgada al terrorismo ?</td>\n",
              "    </tr>\n",
              "    <tr>\n",
              "      <th>5</th>\n",
              "      <td>que bueno seria que volviera el programa cine arte que todos los viernes por la noche siempre habia una nueva película para ver y que mejor que lo conduzca un experto en cine</td>\n",
              "    </tr>\n",
              "    <tr>\n",
              "      <th>6</th>\n",
              "      <td>con este texto, pensé q hablaban de testigos contra auv</td>\n",
              "    </tr>\n",
              "    <tr>\n",
              "      <th>7</th>\n",
              "      <td>los aviones del descaro , este gobierno no le corre sangre por la cara, les corre por los campos</td>\n",
              "    </tr>\n",
              "    <tr>\n",
              "      <th>8</th>\n",
              "      <td>son actrices de categoría y presumen mansiones y camionetas, será que trabajan en hollywood?</td>\n",
              "    </tr>\n",
              "    <tr>\n",
              "      <th>9</th>\n",
              "      <td>y por los medios como que su noticia \"mueren\" y no lo califica como asesinato o masacre. medios politizados, idiogilizados y lo peor, el asesinato de nuestros \"heroes\", por este es una noticia sin importancia... que asco produce.</td>\n",
              "    </tr>\n",
              "    <tr>\n",
              "      <th>10</th>\n",
              "      <td>estan jodidos con ese tipo de noticias absurdas.</td>\n",
              "    </tr>\n",
              "    <tr>\n",
              "      <th>11</th>\n",
              "      <td>que ve tv, Colombia, ? , Francia, , persona en bicicleta, , Francia, , persona en bicicleta, , tenis, , Estados Unidos, , selector de signo femenino, , Japón, hibino, Botón VS, , España, muguruza , selector de cabeza parlante, , televisión,</td>\n",
              "    </tr>\n",
              "    <tr>\n",
              "      <th>12</th>\n",
              "      <td>pleno pico de la pandemia, este país vuelto mierda por su corrupción en gobierno e instituciones, desempleo y pobreza por doquier y uds publicando está mierda de noticias que a nadie le importan!! faranduleros de mierda!!</td>\n",
              "    </tr>\n",
              "    <tr>\n",
              "      <th>13</th>\n",
              "      <td>ese es el talante de todo el séquito de este absurdo gobierno...</td>\n",
              "    </tr>\n",
              "    <tr>\n",
              "      <th>14</th>\n",
              "      <td>y pagando con millas</td>\n",
              "    </tr>\n",
              "    <tr>\n",
              "      <th>15</th>\n",
              "      <td>que alguien le cuente que efromovich salió de la junta de avianca por deudas</td>\n",
              "    </tr>\n",
              "    <tr>\n",
              "      <th>16</th>\n",
              "      <td>y con el cuento de que avianca es colombiana..</td>\n",
              "    </tr>\n",
              "    <tr>\n",
              "      <th>17</th>\n",
              "      <td>mata la producción tantos comerciales</td>\n",
              "    </tr>\n",
              "    <tr>\n",
              "      <th>18</th>\n",
              "      <td>doble moral. falta de etica</td>\n",
              "    </tr>\n",
              "    <tr>\n",
              "      <th>19</th>\n",
              "      <td>desde ibagué gana superman lópez</td>\n",
              "    </tr>\n",
              "  </tbody>\n",
              "</table>\n",
              "</div>"
            ],
            "text/plain": [
              "                                                                                                                                                                                                                                               tweet\n",
              "0                                                                                                                                              se ven mejor gorditas... yo no sé porque el perjuicio de la delgadez si así gorditas se ven muy bien.\n",
              "1                                                                                                                                                                                                                     y a las : en saludos ministro.\n",
              "2                                                                            , hombre en bicicleta tono de piel oscuro medio, gran trabajo de nuestros ciclistas en la etapa de hoy, , y , Colombia, . ¡entregándolo todo hasta el final! , Francia,\n",
              "3                                                      por favor nesesitamos ayuda estamos pasando por una situación muy difícil no tengo comida para mis niños ayudennos por favor nesesitamos alimentacion , cara llorando fuerte, , manos juntas,\n",
              "4                                                                            pero ud quiere que legalizar esa mierda !! y con ayuda de los medios afines al terrorismo como . ? que tal le párese esta fabulosa información sesgada al terrorismo ? \n",
              "5                                                                    que bueno seria que volviera el programa cine arte que todos los viernes por la noche siempre habia una nueva película para ver y que mejor que lo conduzca un experto en cine \n",
              "6                                                                                                                                                                                            con este texto, pensé q hablaban de testigos contra auv\n",
              "7                                                                                                                                                   los aviones del descaro , este gobierno no le corre sangre por la cara, les corre por los campos\n",
              "8                                                                                                                                                       son actrices de categoría y presumen mansiones y camionetas, será que trabajan en hollywood?\n",
              "9              y por los medios como que su noticia \"mueren\" y no lo califica como asesinato o masacre. medios politizados, idiogilizados y lo peor, el asesinato de nuestros \"heroes\", por este es una noticia sin importancia... que asco produce.\n",
              "10                                                                                                                                                                                                  estan jodidos con ese tipo de noticias absurdas.\n",
              "11  que ve tv, Colombia, ? , Francia, , persona en bicicleta, , Francia, , persona en bicicleta, , tenis, , Estados Unidos, , selector de signo femenino, , Japón, hibino, Botón VS, , España, muguruza , selector de cabeza parlante, , televisión,\n",
              "12                     pleno pico de la pandemia, este país vuelto mierda por su corrupción en gobierno e instituciones, desempleo y pobreza por doquier y uds publicando está mierda de noticias que a nadie le importan!! faranduleros de mierda!!\n",
              "13                                                                                                                                                                                  ese es el talante de todo el séquito de este absurdo gobierno...\n",
              "14                                                                                                                                                                                                                              y pagando con millas\n",
              "15                                                                                                                                                                      que alguien le cuente que efromovich salió de la junta de avianca por deudas\n",
              "16                                                                                                                                                                                                    y con el cuento de que avianca es colombiana..\n",
              "17                                                                                                                                                                                                             mata la producción tantos comerciales\n",
              "18                                                                                                                                                                                                                      doble moral. falta de etica \n",
              "19                                                                                                                                                                                                                  desde ibagué gana superman lópez"
            ]
          },
          "metadata": {
            "tags": []
          },
          "execution_count": 68
        }
      ]
    },
    {
      "cell_type": "code",
      "metadata": {
        "id": "WMqrSbH5G8zt",
        "colab_type": "code",
        "colab": {}
      },
      "source": [
        "df_clean['Sent_AWS']=df_clean['tweet'].apply(lambda text: detect_Sentiment_AWS(comprehend,text))"
      ],
      "execution_count": 72,
      "outputs": []
    },
    {
      "cell_type": "code",
      "metadata": {
        "id": "A-XFqejBHJNo",
        "colab_type": "code",
        "colab": {}
      },
      "source": [
        "df_clean[['sentimentAWS','polarityAWS']] = pd.DataFrame(df_clean.Sent_AWS.tolist(), index= df_clean.index)"
      ],
      "execution_count": 73,
      "outputs": []
    },
    {
      "cell_type": "code",
      "metadata": {
        "id": "67_ZQvsMHnEc",
        "colab_type": "code",
        "colab": {
          "base_uri": "https://localhost:8080/",
          "height": 102
        },
        "outputId": "26c9a9e3-56d0-46e5-9d03-297587bab641"
      },
      "source": [
        "df_clean.sentimentAWS.value_counts()"
      ],
      "execution_count": 75,
      "outputs": [
        {
          "output_type": "execute_result",
          "data": {
            "text/plain": [
              "NEGATIVE    742\n",
              "NEUTRAL     576\n",
              "POSITIVE    393\n",
              "MIXED       117\n",
              "Name: sentimentAWS, dtype: int64"
            ]
          },
          "metadata": {
            "tags": []
          },
          "execution_count": 75
        }
      ]
    },
    {
      "cell_type": "code",
      "metadata": {
        "id": "wlkIY6ftHLye",
        "colab_type": "code",
        "colab": {
          "base_uri": "https://localhost:8080/",
          "height": 322
        },
        "outputId": "45c3a29f-3fcf-402f-ccd2-8d07e51a3c83"
      },
      "source": [
        "df_clean.sentimentAWS.value_counts().plot(kind='bar')"
      ],
      "execution_count": 74,
      "outputs": [
        {
          "output_type": "execute_result",
          "data": {
            "text/plain": [
              "<matplotlib.axes._subplots.AxesSubplot at 0x7f3d8ff47e80>"
            ]
          },
          "metadata": {
            "tags": []
          },
          "execution_count": 74
        },
        {
          "output_type": "display_data",
          "data": {
            "image/png": "[encoded data removed]",
            "text/plain": [
              "<Figure size 432x288 with 1 Axes>"
            ]
          },
          "metadata": {
            "tags": [],
            "needs_background": "light"
          }
        }
      ]
    },
    {
      "cell_type": "markdown",
      "metadata": {
        "id": "L6woNVJcTQEE",
        "colab_type": "text"
      },
      "source": [
        "Cuáles son los emojis que más se repiten en el texto?"
      ]
    },
    {
      "cell_type": "code",
      "metadata": {
        "id": "c7OCLnXvIEtq",
        "colab_type": "code",
        "colab": {}
      },
      "source": [
        "all_emojis=[]\n",
        "for t in dcopy.tweet:\n",
        "  listEmojis=emoji.get_emoji_regexp().findall(t)\n",
        "  if len(listEmojis)>0:\n",
        "    all_emojis.extend(listEmojis)"
      ],
      "execution_count": 20,
      "outputs": []
    },
    {
      "cell_type": "code",
      "metadata": {
        "id": "Fvik-HcqJ3tj",
        "colab_type": "code",
        "colab": {
          "base_uri": "https://localhost:8080/",
          "height": 357
        },
        "outputId": "90c9de08-42c1-4dc6-db31-a0e448a8268e"
      },
      "source": [
        "c = Counter(all_emojis)\n",
        "c.most_common(20)"
      ],
      "execution_count": 21,
      "outputs": [
        {
          "output_type": "execute_result",
          "data": {
            "text/plain": [
              "[('😂', 81),\n",
              " ('🤣', 55),\n",
              " ('🇨🇴', 50),\n",
              " ('😍', 32),\n",
              " ('😡', 30),\n",
              " ('📺', 26),\n",
              " ('👏', 25),\n",
              " ('😭', 21),\n",
              " ('🤔', 15),\n",
              " ('⚽', 12),\n",
              " ('😅', 11),\n",
              " ('♥️', 11),\n",
              " ('🇫🇷', 10),\n",
              " ('🚴🏼\\u200d♂️', 10),\n",
              " ('🚴', 9),\n",
              " ('\\U0001f92e', 9),\n",
              " ('❤️', 9),\n",
              " ('🇪🇨', 9),\n",
              " ('🎊', 9),\n",
              " ('🎉', 9)]"
            ]
          },
          "metadata": {
            "tags": []
          },
          "execution_count": 21
        }
      ]
    },
    {
      "cell_type": "code",
      "metadata": {
        "id": "xoHPm1_BIe2z",
        "colab_type": "code",
        "colab": {}
      },
      "source": [
        "import numpy as np"
      ],
      "execution_count": 22,
      "outputs": []
    },
    {
      "cell_type": "code",
      "metadata": {
        "id": "MZZugWlwImk-",
        "colab_type": "code",
        "colab": {
          "base_uri": "https://localhost:8080/",
          "height": 425
        },
        "outputId": "4e70c90b-96cf-46a8-e316-5d5baa2b9859"
      },
      "source": [
        "e, count=np.unique(all_emojis,return_counts=True)\n",
        "count_sort_ind = np.argsort(-count)\n",
        "e[count_sort_ind]"
      ],
      "execution_count": 32,
      "outputs": [
        {
          "output_type": "execute_result",
          "data": {
            "text/plain": [
              "array(['😂', '🤣', '🇨🇴', '😍', '😡', '📺', '👏', '😭', '🤔', '⚽', '♥️', '😅',\n",
              "       '🚴🏼\\u200d♂️', '🇫🇷', '⭕', '\\U0001f92e', '🚴', '🇪🇨', '❤️', '🎉', '🎊',\n",
              "       '🙄', '👍', '😒', '😘', '💩', '👑', '🔥', '😉', '🚴\\u200d♂️', '🙏', '📡',\n",
              "       '🇹🇷', '🤡', '🤢', '🙌', '😁', '😊', '😱', '😤', '⏰', '💻', '🙌🏼', '💚', '🗣️',\n",
              "       '😎', '👏🏻', '😫', '\\U0001f97a', '➡️', '\\U0001f92d', '👉',\n",
              "       '\\U0001f974', '💘', '😐', '🤦\\u200d♂️', '😔', '❤', '🤷\\u200d♀️', '💞',\n",
              "       '🤞', '💥', '😢', '🙈', '\\U0001f970', '💔', '🚵\\u200d♀️', '🎬',\n",
              "       '🤦🏻\\u200d♂️', '💨', '🚲', '💕', '🚴🏻\\u200d♂️', '🚵\\u200d♂️', '😷', '😥',\n",
              "       '🤞🏼', '💯', '😌', '🙏🏻', '👍🏻', '🙂', '▶️', '😀', '☕', '\\U0001f92f', '😠',\n",
              "       '😮', '🙋🏽\\u200d♀️', '🙊', '😓', '☹️', '😄', '😻', '❓', '❗', '🇧🇪', '🔴',\n",
              "       '🆚', '😳', '\\U0001f92a', '💃', '\\U0001f90d', '\\U0001f92c', '🐽', '🤥',\n",
              "       '🐞', '👎', '😨', '🚵', '🚴🏽\\u200d♂️', '🤗', '🐆', '🎤', '🐀', '🎭',\n",
              "       '\\U0001f929', '🎥', '🤠', '🏁', '🌟', '🏎️', '💛', '🤚', '😰', '😬', '🧀',\n",
              "       '\\U0001f975', '🤘🏻', '😯', '🤝', '🙏🏽', '😶', '🤓', '🤧', '🙌🏻',\n",
              "       '🤦🏽\\u200d♀️', '🚴🏻', '🤷🏾\\u200d♂️', '🙉', '🚴🏼', '\\U0001f973',\n",
              "       '🙆\\u200d♂️', '🥚', '🚴🏾\\u200d♂️', '🤦🏻\\u200d♀️', '🚵🏻\\u200d♀️',\n",
              "       '🚵🏼\\u200d♂️', '😴', '\\U0001f7e1', '🙃', '‼️', '🔙', '😝', '🎂', '🎞',\n",
              "       '🎪', '🎵', '🎼', '🎾', '🏍️', '🏘️', '🏭', '🐉', '👀', '👆', '👇', '👉🏼',\n",
              "       '👊🏽', '🍽', '👌', '🌝', '🇻🇪', '☝🏼', '☹', '☺', '♀️', '⚕️', '⛰', '🇦🇹',\n",
              "       '🇨🇷', '🇪🇸', '🇯🇵', '🇱🇻', '🇲🇨', '🇲🇽', '🇵🇦', '🇺🇸', '🌄', '😟', '👌🏻',\n",
              "       '👎🏻', '📽', '📽️', '🔊', '\\U0001f9d1', '🔝', '🖤', '🗺️', '😃', '😆', '😈',\n",
              "       '😏', '😑', '😕', '😖', '😜', '📻', '👍🏾', '📹', '📷', '👨🏾\\u200d🌾',\n",
              "       '👩\\u200d⚕️', '👩\\u200d💻', '👩🏾\\u200d🌾', '💓', '💖', '💙', '💜', '💝', '💣',\n",
              "       '💪', '📢', '📰', '📱', '📲', '📸', '\\U0001fa72'], dtype='<U5')"
            ]
          },
          "metadata": {
            "tags": []
          },
          "execution_count": 32
        }
      ]
    },
    {
      "cell_type": "markdown",
      "metadata": {
        "id": "m9SzjMlGYJ73",
        "colab_type": "text"
      },
      "source": [
        "Otra opción es usar el segundo enfoque para lo cual es necesario preparar una base de conocimientos con tweets (para este caso) que estén previamente etiquetados.\n",
        "\n",
        "Por ejemplo, se podría usar :\n",
        "\n",
        "1.   corpus TASS (http://tass.sepln.org/tass_data/download.php) para entrenar un\n",
        "\n",
        "modelo"
      ]
    }
  ]
}